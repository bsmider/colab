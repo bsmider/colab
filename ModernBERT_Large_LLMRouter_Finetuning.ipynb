{
  "nbformat": 4,
  "nbformat_minor": 0,
  "metadata": {
    "colab": {
      "provenance": [],
      "machine_shape": "hm",
      "gpuType": "L4",
      "include_colab_link": true
    },
    "kernelspec": {
      "name": "python3",
      "display_name": "Python 3"
    },
    "language_info": {
      "name": "python"
    },
    "accelerator": "GPU",
    "widgets": {
      "application/vnd.jupyter.widget-state+json": {
        "4d25563287244dd2b47ebfdda2eaf9e1": {
          "model_module": "@jupyter-widgets/controls",
          "model_name": "HBoxModel",
          "model_module_version": "1.5.0",
          "state": {
            "_dom_classes": [],
            "_model_module": "@jupyter-widgets/controls",
            "_model_module_version": "1.5.0",
            "_model_name": "HBoxModel",
            "_view_count": null,
            "_view_module": "@jupyter-widgets/controls",
            "_view_module_version": "1.5.0",
            "_view_name": "HBoxView",
            "box_style": "",
            "children": [
              "IPY_MODEL_a828ed5763e842138c7211a3440b7b30",
              "IPY_MODEL_46bb5652eacf4676917322e61c733d73",
              "IPY_MODEL_1e1a2d998cc443728751af3d00f4a5cb"
            ],
            "layout": "IPY_MODEL_a958067f79c64aebb3c82e4cda896599"
          }
        },
        "a828ed5763e842138c7211a3440b7b30": {
          "model_module": "@jupyter-widgets/controls",
          "model_name": "HTMLModel",
          "model_module_version": "1.5.0",
          "state": {
            "_dom_classes": [],
            "_model_module": "@jupyter-widgets/controls",
            "_model_module_version": "1.5.0",
            "_model_name": "HTMLModel",
            "_view_count": null,
            "_view_module": "@jupyter-widgets/controls",
            "_view_module_version": "1.5.0",
            "_view_name": "HTMLView",
            "description": "",
            "description_tooltip": null,
            "layout": "IPY_MODEL_2ce8a9d1f4bd4c36beb14f3f757ea1b5",
            "placeholder": "​",
            "style": "IPY_MODEL_01e881bab65b44c7a53cf8a79b7b3ef3",
            "value": "Map: 100%"
          }
        },
        "46bb5652eacf4676917322e61c733d73": {
          "model_module": "@jupyter-widgets/controls",
          "model_name": "FloatProgressModel",
          "model_module_version": "1.5.0",
          "state": {
            "_dom_classes": [],
            "_model_module": "@jupyter-widgets/controls",
            "_model_module_version": "1.5.0",
            "_model_name": "FloatProgressModel",
            "_view_count": null,
            "_view_module": "@jupyter-widgets/controls",
            "_view_module_version": "1.5.0",
            "_view_name": "ProgressView",
            "bar_style": "success",
            "description": "",
            "description_tooltip": null,
            "layout": "IPY_MODEL_9951eef722bc4a30bd1e810e39065900",
            "max": 4921,
            "min": 0,
            "orientation": "horizontal",
            "style": "IPY_MODEL_b6684a76cf5a4fe0ad507c5e56021a13",
            "value": 4921
          }
        },
        "1e1a2d998cc443728751af3d00f4a5cb": {
          "model_module": "@jupyter-widgets/controls",
          "model_name": "HTMLModel",
          "model_module_version": "1.5.0",
          "state": {
            "_dom_classes": [],
            "_model_module": "@jupyter-widgets/controls",
            "_model_module_version": "1.5.0",
            "_model_name": "HTMLModel",
            "_view_count": null,
            "_view_module": "@jupyter-widgets/controls",
            "_view_module_version": "1.5.0",
            "_view_name": "HTMLView",
            "description": "",
            "description_tooltip": null,
            "layout": "IPY_MODEL_bb36308370544c53bc3d07a94c5715ea",
            "placeholder": "​",
            "style": "IPY_MODEL_336b5244750f42acaaf2b46df8a4bb9e",
            "value": " 4921/4921 [00:02&lt;00:00, 2030.40 examples/s]"
          }
        },
        "a958067f79c64aebb3c82e4cda896599": {
          "model_module": "@jupyter-widgets/base",
          "model_name": "LayoutModel",
          "model_module_version": "1.2.0",
          "state": {
            "_model_module": "@jupyter-widgets/base",
            "_model_module_version": "1.2.0",
            "_model_name": "LayoutModel",
            "_view_count": null,
            "_view_module": "@jupyter-widgets/base",
            "_view_module_version": "1.2.0",
            "_view_name": "LayoutView",
            "align_content": null,
            "align_items": null,
            "align_self": null,
            "border": null,
            "bottom": null,
            "display": null,
            "flex": null,
            "flex_flow": null,
            "grid_area": null,
            "grid_auto_columns": null,
            "grid_auto_flow": null,
            "grid_auto_rows": null,
            "grid_column": null,
            "grid_gap": null,
            "grid_row": null,
            "grid_template_areas": null,
            "grid_template_columns": null,
            "grid_template_rows": null,
            "height": null,
            "justify_content": null,
            "justify_items": null,
            "left": null,
            "margin": null,
            "max_height": null,
            "max_width": null,
            "min_height": null,
            "min_width": null,
            "object_fit": null,
            "object_position": null,
            "order": null,
            "overflow": null,
            "overflow_x": null,
            "overflow_y": null,
            "padding": null,
            "right": null,
            "top": null,
            "visibility": null,
            "width": null
          }
        },
        "2ce8a9d1f4bd4c36beb14f3f757ea1b5": {
          "model_module": "@jupyter-widgets/base",
          "model_name": "LayoutModel",
          "model_module_version": "1.2.0",
          "state": {
            "_model_module": "@jupyter-widgets/base",
            "_model_module_version": "1.2.0",
            "_model_name": "LayoutModel",
            "_view_count": null,
            "_view_module": "@jupyter-widgets/base",
            "_view_module_version": "1.2.0",
            "_view_name": "LayoutView",
            "align_content": null,
            "align_items": null,
            "align_self": null,
            "border": null,
            "bottom": null,
            "display": null,
            "flex": null,
            "flex_flow": null,
            "grid_area": null,
            "grid_auto_columns": null,
            "grid_auto_flow": null,
            "grid_auto_rows": null,
            "grid_column": null,
            "grid_gap": null,
            "grid_row": null,
            "grid_template_areas": null,
            "grid_template_columns": null,
            "grid_template_rows": null,
            "height": null,
            "justify_content": null,
            "justify_items": null,
            "left": null,
            "margin": null,
            "max_height": null,
            "max_width": null,
            "min_height": null,
            "min_width": null,
            "object_fit": null,
            "object_position": null,
            "order": null,
            "overflow": null,
            "overflow_x": null,
            "overflow_y": null,
            "padding": null,
            "right": null,
            "top": null,
            "visibility": null,
            "width": null
          }
        },
        "01e881bab65b44c7a53cf8a79b7b3ef3": {
          "model_module": "@jupyter-widgets/controls",
          "model_name": "DescriptionStyleModel",
          "model_module_version": "1.5.0",
          "state": {
            "_model_module": "@jupyter-widgets/controls",
            "_model_module_version": "1.5.0",
            "_model_name": "DescriptionStyleModel",
            "_view_count": null,
            "_view_module": "@jupyter-widgets/base",
            "_view_module_version": "1.2.0",
            "_view_name": "StyleView",
            "description_width": ""
          }
        },
        "9951eef722bc4a30bd1e810e39065900": {
          "model_module": "@jupyter-widgets/base",
          "model_name": "LayoutModel",
          "model_module_version": "1.2.0",
          "state": {
            "_model_module": "@jupyter-widgets/base",
            "_model_module_version": "1.2.0",
            "_model_name": "LayoutModel",
            "_view_count": null,
            "_view_module": "@jupyter-widgets/base",
            "_view_module_version": "1.2.0",
            "_view_name": "LayoutView",
            "align_content": null,
            "align_items": null,
            "align_self": null,
            "border": null,
            "bottom": null,
            "display": null,
            "flex": null,
            "flex_flow": null,
            "grid_area": null,
            "grid_auto_columns": null,
            "grid_auto_flow": null,
            "grid_auto_rows": null,
            "grid_column": null,
            "grid_gap": null,
            "grid_row": null,
            "grid_template_areas": null,
            "grid_template_columns": null,
            "grid_template_rows": null,
            "height": null,
            "justify_content": null,
            "justify_items": null,
            "left": null,
            "margin": null,
            "max_height": null,
            "max_width": null,
            "min_height": null,
            "min_width": null,
            "object_fit": null,
            "object_position": null,
            "order": null,
            "overflow": null,
            "overflow_x": null,
            "overflow_y": null,
            "padding": null,
            "right": null,
            "top": null,
            "visibility": null,
            "width": null
          }
        },
        "b6684a76cf5a4fe0ad507c5e56021a13": {
          "model_module": "@jupyter-widgets/controls",
          "model_name": "ProgressStyleModel",
          "model_module_version": "1.5.0",
          "state": {
            "_model_module": "@jupyter-widgets/controls",
            "_model_module_version": "1.5.0",
            "_model_name": "ProgressStyleModel",
            "_view_count": null,
            "_view_module": "@jupyter-widgets/base",
            "_view_module_version": "1.2.0",
            "_view_name": "StyleView",
            "bar_color": null,
            "description_width": ""
          }
        },
        "bb36308370544c53bc3d07a94c5715ea": {
          "model_module": "@jupyter-widgets/base",
          "model_name": "LayoutModel",
          "model_module_version": "1.2.0",
          "state": {
            "_model_module": "@jupyter-widgets/base",
            "_model_module_version": "1.2.0",
            "_model_name": "LayoutModel",
            "_view_count": null,
            "_view_module": "@jupyter-widgets/base",
            "_view_module_version": "1.2.0",
            "_view_name": "LayoutView",
            "align_content": null,
            "align_items": null,
            "align_self": null,
            "border": null,
            "bottom": null,
            "display": null,
            "flex": null,
            "flex_flow": null,
            "grid_area": null,
            "grid_auto_columns": null,
            "grid_auto_flow": null,
            "grid_auto_rows": null,
            "grid_column": null,
            "grid_gap": null,
            "grid_row": null,
            "grid_template_areas": null,
            "grid_template_columns": null,
            "grid_template_rows": null,
            "height": null,
            "justify_content": null,
            "justify_items": null,
            "left": null,
            "margin": null,
            "max_height": null,
            "max_width": null,
            "min_height": null,
            "min_width": null,
            "object_fit": null,
            "object_position": null,
            "order": null,
            "overflow": null,
            "overflow_x": null,
            "overflow_y": null,
            "padding": null,
            "right": null,
            "top": null,
            "visibility": null,
            "width": null
          }
        },
        "336b5244750f42acaaf2b46df8a4bb9e": {
          "model_module": "@jupyter-widgets/controls",
          "model_name": "DescriptionStyleModel",
          "model_module_version": "1.5.0",
          "state": {
            "_model_module": "@jupyter-widgets/controls",
            "_model_module_version": "1.5.0",
            "_model_name": "DescriptionStyleModel",
            "_view_count": null,
            "_view_module": "@jupyter-widgets/base",
            "_view_module_version": "1.2.0",
            "_view_name": "StyleView",
            "description_width": ""
          }
        },
        "b5a479fb7f9f4af588ad3dcb63a31c59": {
          "model_module": "@jupyter-widgets/controls",
          "model_name": "HBoxModel",
          "model_module_version": "1.5.0",
          "state": {
            "_dom_classes": [],
            "_model_module": "@jupyter-widgets/controls",
            "_model_module_version": "1.5.0",
            "_model_name": "HBoxModel",
            "_view_count": null,
            "_view_module": "@jupyter-widgets/controls",
            "_view_module_version": "1.5.0",
            "_view_name": "HBoxView",
            "box_style": "",
            "children": [
              "IPY_MODEL_3311e0a4a81049ed85cc5a9568cc2fd2",
              "IPY_MODEL_3ca9642edaaa4b3c97b90aeeac7ce3ff",
              "IPY_MODEL_6605501f6cd743068b2643ea7b904982"
            ],
            "layout": "IPY_MODEL_1be3fe8a69fe492fb8285cd029f426ed"
          }
        },
        "3311e0a4a81049ed85cc5a9568cc2fd2": {
          "model_module": "@jupyter-widgets/controls",
          "model_name": "HTMLModel",
          "model_module_version": "1.5.0",
          "state": {
            "_dom_classes": [],
            "_model_module": "@jupyter-widgets/controls",
            "_model_module_version": "1.5.0",
            "_model_name": "HTMLModel",
            "_view_count": null,
            "_view_module": "@jupyter-widgets/controls",
            "_view_module_version": "1.5.0",
            "_view_name": "HTMLView",
            "description": "",
            "description_tooltip": null,
            "layout": "IPY_MODEL_9aa069d453604cbfbac8c12578d68f0c",
            "placeholder": "​",
            "style": "IPY_MODEL_81d3effb2f984648bb0eb71085dea314",
            "value": "model.safetensors: 100%"
          }
        },
        "3ca9642edaaa4b3c97b90aeeac7ce3ff": {
          "model_module": "@jupyter-widgets/controls",
          "model_name": "FloatProgressModel",
          "model_module_version": "1.5.0",
          "state": {
            "_dom_classes": [],
            "_model_module": "@jupyter-widgets/controls",
            "_model_module_version": "1.5.0",
            "_model_name": "FloatProgressModel",
            "_view_count": null,
            "_view_module": "@jupyter-widgets/controls",
            "_view_module_version": "1.5.0",
            "_view_name": "ProgressView",
            "bar_style": "success",
            "description": "",
            "description_tooltip": null,
            "layout": "IPY_MODEL_df78515e1e84415b9be04ece34c1dfef",
            "max": 1583544840,
            "min": 0,
            "orientation": "horizontal",
            "style": "IPY_MODEL_c079d12646d34d7aa15a141ba41fe3bd",
            "value": 1583544840
          }
        },
        "6605501f6cd743068b2643ea7b904982": {
          "model_module": "@jupyter-widgets/controls",
          "model_name": "HTMLModel",
          "model_module_version": "1.5.0",
          "state": {
            "_dom_classes": [],
            "_model_module": "@jupyter-widgets/controls",
            "_model_module_version": "1.5.0",
            "_model_name": "HTMLModel",
            "_view_count": null,
            "_view_module": "@jupyter-widgets/controls",
            "_view_module_version": "1.5.0",
            "_view_name": "HTMLView",
            "description": "",
            "description_tooltip": null,
            "layout": "IPY_MODEL_57a49ac0ac714d82b730e7243d38b991",
            "placeholder": "​",
            "style": "IPY_MODEL_734b5db902614f869c7f258e2d9932de",
            "value": " 1.58G/1.58G [00:37&lt;00:00, 42.6MB/s]"
          }
        },
        "1be3fe8a69fe492fb8285cd029f426ed": {
          "model_module": "@jupyter-widgets/base",
          "model_name": "LayoutModel",
          "model_module_version": "1.2.0",
          "state": {
            "_model_module": "@jupyter-widgets/base",
            "_model_module_version": "1.2.0",
            "_model_name": "LayoutModel",
            "_view_count": null,
            "_view_module": "@jupyter-widgets/base",
            "_view_module_version": "1.2.0",
            "_view_name": "LayoutView",
            "align_content": null,
            "align_items": null,
            "align_self": null,
            "border": null,
            "bottom": null,
            "display": null,
            "flex": null,
            "flex_flow": null,
            "grid_area": null,
            "grid_auto_columns": null,
            "grid_auto_flow": null,
            "grid_auto_rows": null,
            "grid_column": null,
            "grid_gap": null,
            "grid_row": null,
            "grid_template_areas": null,
            "grid_template_columns": null,
            "grid_template_rows": null,
            "height": null,
            "justify_content": null,
            "justify_items": null,
            "left": null,
            "margin": null,
            "max_height": null,
            "max_width": null,
            "min_height": null,
            "min_width": null,
            "object_fit": null,
            "object_position": null,
            "order": null,
            "overflow": null,
            "overflow_x": null,
            "overflow_y": null,
            "padding": null,
            "right": null,
            "top": null,
            "visibility": null,
            "width": null
          }
        },
        "9aa069d453604cbfbac8c12578d68f0c": {
          "model_module": "@jupyter-widgets/base",
          "model_name": "LayoutModel",
          "model_module_version": "1.2.0",
          "state": {
            "_model_module": "@jupyter-widgets/base",
            "_model_module_version": "1.2.0",
            "_model_name": "LayoutModel",
            "_view_count": null,
            "_view_module": "@jupyter-widgets/base",
            "_view_module_version": "1.2.0",
            "_view_name": "LayoutView",
            "align_content": null,
            "align_items": null,
            "align_self": null,
            "border": null,
            "bottom": null,
            "display": null,
            "flex": null,
            "flex_flow": null,
            "grid_area": null,
            "grid_auto_columns": null,
            "grid_auto_flow": null,
            "grid_auto_rows": null,
            "grid_column": null,
            "grid_gap": null,
            "grid_row": null,
            "grid_template_areas": null,
            "grid_template_columns": null,
            "grid_template_rows": null,
            "height": null,
            "justify_content": null,
            "justify_items": null,
            "left": null,
            "margin": null,
            "max_height": null,
            "max_width": null,
            "min_height": null,
            "min_width": null,
            "object_fit": null,
            "object_position": null,
            "order": null,
            "overflow": null,
            "overflow_x": null,
            "overflow_y": null,
            "padding": null,
            "right": null,
            "top": null,
            "visibility": null,
            "width": null
          }
        },
        "81d3effb2f984648bb0eb71085dea314": {
          "model_module": "@jupyter-widgets/controls",
          "model_name": "DescriptionStyleModel",
          "model_module_version": "1.5.0",
          "state": {
            "_model_module": "@jupyter-widgets/controls",
            "_model_module_version": "1.5.0",
            "_model_name": "DescriptionStyleModel",
            "_view_count": null,
            "_view_module": "@jupyter-widgets/base",
            "_view_module_version": "1.2.0",
            "_view_name": "StyleView",
            "description_width": ""
          }
        },
        "df78515e1e84415b9be04ece34c1dfef": {
          "model_module": "@jupyter-widgets/base",
          "model_name": "LayoutModel",
          "model_module_version": "1.2.0",
          "state": {
            "_model_module": "@jupyter-widgets/base",
            "_model_module_version": "1.2.0",
            "_model_name": "LayoutModel",
            "_view_count": null,
            "_view_module": "@jupyter-widgets/base",
            "_view_module_version": "1.2.0",
            "_view_name": "LayoutView",
            "align_content": null,
            "align_items": null,
            "align_self": null,
            "border": null,
            "bottom": null,
            "display": null,
            "flex": null,
            "flex_flow": null,
            "grid_area": null,
            "grid_auto_columns": null,
            "grid_auto_flow": null,
            "grid_auto_rows": null,
            "grid_column": null,
            "grid_gap": null,
            "grid_row": null,
            "grid_template_areas": null,
            "grid_template_columns": null,
            "grid_template_rows": null,
            "height": null,
            "justify_content": null,
            "justify_items": null,
            "left": null,
            "margin": null,
            "max_height": null,
            "max_width": null,
            "min_height": null,
            "min_width": null,
            "object_fit": null,
            "object_position": null,
            "order": null,
            "overflow": null,
            "overflow_x": null,
            "overflow_y": null,
            "padding": null,
            "right": null,
            "top": null,
            "visibility": null,
            "width": null
          }
        },
        "c079d12646d34d7aa15a141ba41fe3bd": {
          "model_module": "@jupyter-widgets/controls",
          "model_name": "ProgressStyleModel",
          "model_module_version": "1.5.0",
          "state": {
            "_model_module": "@jupyter-widgets/controls",
            "_model_module_version": "1.5.0",
            "_model_name": "ProgressStyleModel",
            "_view_count": null,
            "_view_module": "@jupyter-widgets/base",
            "_view_module_version": "1.2.0",
            "_view_name": "StyleView",
            "bar_color": null,
            "description_width": ""
          }
        },
        "57a49ac0ac714d82b730e7243d38b991": {
          "model_module": "@jupyter-widgets/base",
          "model_name": "LayoutModel",
          "model_module_version": "1.2.0",
          "state": {
            "_model_module": "@jupyter-widgets/base",
            "_model_module_version": "1.2.0",
            "_model_name": "LayoutModel",
            "_view_count": null,
            "_view_module": "@jupyter-widgets/base",
            "_view_module_version": "1.2.0",
            "_view_name": "LayoutView",
            "align_content": null,
            "align_items": null,
            "align_self": null,
            "border": null,
            "bottom": null,
            "display": null,
            "flex": null,
            "flex_flow": null,
            "grid_area": null,
            "grid_auto_columns": null,
            "grid_auto_flow": null,
            "grid_auto_rows": null,
            "grid_column": null,
            "grid_gap": null,
            "grid_row": null,
            "grid_template_areas": null,
            "grid_template_columns": null,
            "grid_template_rows": null,
            "height": null,
            "justify_content": null,
            "justify_items": null,
            "left": null,
            "margin": null,
            "max_height": null,
            "max_width": null,
            "min_height": null,
            "min_width": null,
            "object_fit": null,
            "object_position": null,
            "order": null,
            "overflow": null,
            "overflow_x": null,
            "overflow_y": null,
            "padding": null,
            "right": null,
            "top": null,
            "visibility": null,
            "width": null
          }
        },
        "734b5db902614f869c7f258e2d9932de": {
          "model_module": "@jupyter-widgets/controls",
          "model_name": "DescriptionStyleModel",
          "model_module_version": "1.5.0",
          "state": {
            "_model_module": "@jupyter-widgets/controls",
            "_model_module_version": "1.5.0",
            "_model_name": "DescriptionStyleModel",
            "_view_count": null,
            "_view_module": "@jupyter-widgets/base",
            "_view_module_version": "1.2.0",
            "_view_name": "StyleView",
            "description_width": ""
          }
        },
        "df98dd4b7f124ebd86cc62051fd1efed": {
          "model_module": "@jupyter-widgets/controls",
          "model_name": "HBoxModel",
          "model_module_version": "1.5.0",
          "state": {
            "_dom_classes": [],
            "_model_module": "@jupyter-widgets/controls",
            "_model_module_version": "1.5.0",
            "_model_name": "HBoxModel",
            "_view_count": null,
            "_view_module": "@jupyter-widgets/controls",
            "_view_module_version": "1.5.0",
            "_view_name": "HBoxView",
            "box_style": "",
            "children": [
              "IPY_MODEL_7198fc17bb224a4cbf21f512896b0cba",
              "IPY_MODEL_1cea5e39935c4704a7dad803c24be817",
              "IPY_MODEL_46e1c1131c93427b9d05e4ca39361744"
            ],
            "layout": "IPY_MODEL_845beedfacb048c188b15c43a522dfc3"
          }
        },
        "7198fc17bb224a4cbf21f512896b0cba": {
          "model_module": "@jupyter-widgets/controls",
          "model_name": "HTMLModel",
          "model_module_version": "1.5.0",
          "state": {
            "_dom_classes": [],
            "_model_module": "@jupyter-widgets/controls",
            "_model_module_version": "1.5.0",
            "_model_name": "HTMLModel",
            "_view_count": null,
            "_view_module": "@jupyter-widgets/controls",
            "_view_module_version": "1.5.0",
            "_view_name": "HTMLView",
            "description": "",
            "description_tooltip": null,
            "layout": "IPY_MODEL_e4b424df0aff48949317cac8736c2722",
            "placeholder": "​",
            "style": "IPY_MODEL_5ddcd8da785d4b14a47985514872c924",
            "value": "events.out.tfevents.1736072493.b29abe2b1e5d.7227.0: 100%"
          }
        },
        "1cea5e39935c4704a7dad803c24be817": {
          "model_module": "@jupyter-widgets/controls",
          "model_name": "FloatProgressModel",
          "model_module_version": "1.5.0",
          "state": {
            "_dom_classes": [],
            "_model_module": "@jupyter-widgets/controls",
            "_model_module_version": "1.5.0",
            "_model_name": "FloatProgressModel",
            "_view_count": null,
            "_view_module": "@jupyter-widgets/controls",
            "_view_module_version": "1.5.0",
            "_view_name": "ProgressView",
            "bar_style": "success",
            "description": "",
            "description_tooltip": null,
            "layout": "IPY_MODEL_f828d2713da74d7b958978478601d9db",
            "max": 12617,
            "min": 0,
            "orientation": "horizontal",
            "style": "IPY_MODEL_b9f1cc3cd74a4abc95ede3f033f44b23",
            "value": 12617
          }
        },
        "46e1c1131c93427b9d05e4ca39361744": {
          "model_module": "@jupyter-widgets/controls",
          "model_name": "HTMLModel",
          "model_module_version": "1.5.0",
          "state": {
            "_dom_classes": [],
            "_model_module": "@jupyter-widgets/controls",
            "_model_module_version": "1.5.0",
            "_model_name": "HTMLModel",
            "_view_count": null,
            "_view_module": "@jupyter-widgets/controls",
            "_view_module_version": "1.5.0",
            "_view_name": "HTMLView",
            "description": "",
            "description_tooltip": null,
            "layout": "IPY_MODEL_57562087a10d442999f83bc852825ba7",
            "placeholder": "​",
            "style": "IPY_MODEL_82cde3b14c19438d8c5e3b26b5450dfc",
            "value": " 12.6k/12.6k [00:00&lt;00:00, 56.0kB/s]"
          }
        },
        "845beedfacb048c188b15c43a522dfc3": {
          "model_module": "@jupyter-widgets/base",
          "model_name": "LayoutModel",
          "model_module_version": "1.2.0",
          "state": {
            "_model_module": "@jupyter-widgets/base",
            "_model_module_version": "1.2.0",
            "_model_name": "LayoutModel",
            "_view_count": null,
            "_view_module": "@jupyter-widgets/base",
            "_view_module_version": "1.2.0",
            "_view_name": "LayoutView",
            "align_content": null,
            "align_items": null,
            "align_self": null,
            "border": null,
            "bottom": null,
            "display": null,
            "flex": null,
            "flex_flow": null,
            "grid_area": null,
            "grid_auto_columns": null,
            "grid_auto_flow": null,
            "grid_auto_rows": null,
            "grid_column": null,
            "grid_gap": null,
            "grid_row": null,
            "grid_template_areas": null,
            "grid_template_columns": null,
            "grid_template_rows": null,
            "height": null,
            "justify_content": null,
            "justify_items": null,
            "left": null,
            "margin": null,
            "max_height": null,
            "max_width": null,
            "min_height": null,
            "min_width": null,
            "object_fit": null,
            "object_position": null,
            "order": null,
            "overflow": null,
            "overflow_x": null,
            "overflow_y": null,
            "padding": null,
            "right": null,
            "top": null,
            "visibility": null,
            "width": null
          }
        },
        "e4b424df0aff48949317cac8736c2722": {
          "model_module": "@jupyter-widgets/base",
          "model_name": "LayoutModel",
          "model_module_version": "1.2.0",
          "state": {
            "_model_module": "@jupyter-widgets/base",
            "_model_module_version": "1.2.0",
            "_model_name": "LayoutModel",
            "_view_count": null,
            "_view_module": "@jupyter-widgets/base",
            "_view_module_version": "1.2.0",
            "_view_name": "LayoutView",
            "align_content": null,
            "align_items": null,
            "align_self": null,
            "border": null,
            "bottom": null,
            "display": null,
            "flex": null,
            "flex_flow": null,
            "grid_area": null,
            "grid_auto_columns": null,
            "grid_auto_flow": null,
            "grid_auto_rows": null,
            "grid_column": null,
            "grid_gap": null,
            "grid_row": null,
            "grid_template_areas": null,
            "grid_template_columns": null,
            "grid_template_rows": null,
            "height": null,
            "justify_content": null,
            "justify_items": null,
            "left": null,
            "margin": null,
            "max_height": null,
            "max_width": null,
            "min_height": null,
            "min_width": null,
            "object_fit": null,
            "object_position": null,
            "order": null,
            "overflow": null,
            "overflow_x": null,
            "overflow_y": null,
            "padding": null,
            "right": null,
            "top": null,
            "visibility": null,
            "width": null
          }
        },
        "5ddcd8da785d4b14a47985514872c924": {
          "model_module": "@jupyter-widgets/controls",
          "model_name": "DescriptionStyleModel",
          "model_module_version": "1.5.0",
          "state": {
            "_model_module": "@jupyter-widgets/controls",
            "_model_module_version": "1.5.0",
            "_model_name": "DescriptionStyleModel",
            "_view_count": null,
            "_view_module": "@jupyter-widgets/base",
            "_view_module_version": "1.2.0",
            "_view_name": "StyleView",
            "description_width": ""
          }
        },
        "f828d2713da74d7b958978478601d9db": {
          "model_module": "@jupyter-widgets/base",
          "model_name": "LayoutModel",
          "model_module_version": "1.2.0",
          "state": {
            "_model_module": "@jupyter-widgets/base",
            "_model_module_version": "1.2.0",
            "_model_name": "LayoutModel",
            "_view_count": null,
            "_view_module": "@jupyter-widgets/base",
            "_view_module_version": "1.2.0",
            "_view_name": "LayoutView",
            "align_content": null,
            "align_items": null,
            "align_self": null,
            "border": null,
            "bottom": null,
            "display": null,
            "flex": null,
            "flex_flow": null,
            "grid_area": null,
            "grid_auto_columns": null,
            "grid_auto_flow": null,
            "grid_auto_rows": null,
            "grid_column": null,
            "grid_gap": null,
            "grid_row": null,
            "grid_template_areas": null,
            "grid_template_columns": null,
            "grid_template_rows": null,
            "height": null,
            "justify_content": null,
            "justify_items": null,
            "left": null,
            "margin": null,
            "max_height": null,
            "max_width": null,
            "min_height": null,
            "min_width": null,
            "object_fit": null,
            "object_position": null,
            "order": null,
            "overflow": null,
            "overflow_x": null,
            "overflow_y": null,
            "padding": null,
            "right": null,
            "top": null,
            "visibility": null,
            "width": null
          }
        },
        "b9f1cc3cd74a4abc95ede3f033f44b23": {
          "model_module": "@jupyter-widgets/controls",
          "model_name": "ProgressStyleModel",
          "model_module_version": "1.5.0",
          "state": {
            "_model_module": "@jupyter-widgets/controls",
            "_model_module_version": "1.5.0",
            "_model_name": "ProgressStyleModel",
            "_view_count": null,
            "_view_module": "@jupyter-widgets/base",
            "_view_module_version": "1.2.0",
            "_view_name": "StyleView",
            "bar_color": null,
            "description_width": ""
          }
        },
        "57562087a10d442999f83bc852825ba7": {
          "model_module": "@jupyter-widgets/base",
          "model_name": "LayoutModel",
          "model_module_version": "1.2.0",
          "state": {
            "_model_module": "@jupyter-widgets/base",
            "_model_module_version": "1.2.0",
            "_model_name": "LayoutModel",
            "_view_count": null,
            "_view_module": "@jupyter-widgets/base",
            "_view_module_version": "1.2.0",
            "_view_name": "LayoutView",
            "align_content": null,
            "align_items": null,
            "align_self": null,
            "border": null,
            "bottom": null,
            "display": null,
            "flex": null,
            "flex_flow": null,
            "grid_area": null,
            "grid_auto_columns": null,
            "grid_auto_flow": null,
            "grid_auto_rows": null,
            "grid_column": null,
            "grid_gap": null,
            "grid_row": null,
            "grid_template_areas": null,
            "grid_template_columns": null,
            "grid_template_rows": null,
            "height": null,
            "justify_content": null,
            "justify_items": null,
            "left": null,
            "margin": null,
            "max_height": null,
            "max_width": null,
            "min_height": null,
            "min_width": null,
            "object_fit": null,
            "object_position": null,
            "order": null,
            "overflow": null,
            "overflow_x": null,
            "overflow_y": null,
            "padding": null,
            "right": null,
            "top": null,
            "visibility": null,
            "width": null
          }
        },
        "82cde3b14c19438d8c5e3b26b5450dfc": {
          "model_module": "@jupyter-widgets/controls",
          "model_name": "DescriptionStyleModel",
          "model_module_version": "1.5.0",
          "state": {
            "_model_module": "@jupyter-widgets/controls",
            "_model_module_version": "1.5.0",
            "_model_name": "DescriptionStyleModel",
            "_view_count": null,
            "_view_module": "@jupyter-widgets/base",
            "_view_module_version": "1.2.0",
            "_view_name": "StyleView",
            "description_width": ""
          }
        },
        "77a9b4bcaf1a4542b01c29e36e598fae": {
          "model_module": "@jupyter-widgets/controls",
          "model_name": "HBoxModel",
          "model_module_version": "1.5.0",
          "state": {
            "_dom_classes": [],
            "_model_module": "@jupyter-widgets/controls",
            "_model_module_version": "1.5.0",
            "_model_name": "HBoxModel",
            "_view_count": null,
            "_view_module": "@jupyter-widgets/controls",
            "_view_module_version": "1.5.0",
            "_view_name": "HBoxView",
            "box_style": "",
            "children": [
              "IPY_MODEL_2e81d394d72343bb81918e85bd84fe93",
              "IPY_MODEL_d4a5455de5774fb1aa12ae84efe11479",
              "IPY_MODEL_e766bbd6236141c88887a86c3b843ef2"
            ],
            "layout": "IPY_MODEL_11fcfaab677042ad8b7f2b45a309a9fe"
          }
        },
        "2e81d394d72343bb81918e85bd84fe93": {
          "model_module": "@jupyter-widgets/controls",
          "model_name": "HTMLModel",
          "model_module_version": "1.5.0",
          "state": {
            "_dom_classes": [],
            "_model_module": "@jupyter-widgets/controls",
            "_model_module_version": "1.5.0",
            "_model_name": "HTMLModel",
            "_view_count": null,
            "_view_module": "@jupyter-widgets/controls",
            "_view_module_version": "1.5.0",
            "_view_name": "HTMLView",
            "description": "",
            "description_tooltip": null,
            "layout": "IPY_MODEL_4bf9e5a783c8425793145dafbb090df5",
            "placeholder": "​",
            "style": "IPY_MODEL_e4571c391222492caedd33c0ba1a5f38",
            "value": "config.json: 100%"
          }
        },
        "d4a5455de5774fb1aa12ae84efe11479": {
          "model_module": "@jupyter-widgets/controls",
          "model_name": "FloatProgressModel",
          "model_module_version": "1.5.0",
          "state": {
            "_dom_classes": [],
            "_model_module": "@jupyter-widgets/controls",
            "_model_module_version": "1.5.0",
            "_model_name": "FloatProgressModel",
            "_view_count": null,
            "_view_module": "@jupyter-widgets/controls",
            "_view_module_version": "1.5.0",
            "_view_name": "ProgressView",
            "bar_style": "success",
            "description": "",
            "description_tooltip": null,
            "layout": "IPY_MODEL_bc918260505748d9ae7b60acecd59436",
            "max": 1462,
            "min": 0,
            "orientation": "horizontal",
            "style": "IPY_MODEL_43fa6f1f4d36492f8d43760c17dc864a",
            "value": 1462
          }
        },
        "e766bbd6236141c88887a86c3b843ef2": {
          "model_module": "@jupyter-widgets/controls",
          "model_name": "HTMLModel",
          "model_module_version": "1.5.0",
          "state": {
            "_dom_classes": [],
            "_model_module": "@jupyter-widgets/controls",
            "_model_module_version": "1.5.0",
            "_model_name": "HTMLModel",
            "_view_count": null,
            "_view_module": "@jupyter-widgets/controls",
            "_view_module_version": "1.5.0",
            "_view_name": "HTMLView",
            "description": "",
            "description_tooltip": null,
            "layout": "IPY_MODEL_ef093555fa304556b40f3ebf6cd075f3",
            "placeholder": "​",
            "style": "IPY_MODEL_0f9d715d6d4b41e198317c5b1e1ce2e9",
            "value": " 1.46k/1.46k [00:00&lt;00:00, 104kB/s]"
          }
        },
        "11fcfaab677042ad8b7f2b45a309a9fe": {
          "model_module": "@jupyter-widgets/base",
          "model_name": "LayoutModel",
          "model_module_version": "1.2.0",
          "state": {
            "_model_module": "@jupyter-widgets/base",
            "_model_module_version": "1.2.0",
            "_model_name": "LayoutModel",
            "_view_count": null,
            "_view_module": "@jupyter-widgets/base",
            "_view_module_version": "1.2.0",
            "_view_name": "LayoutView",
            "align_content": null,
            "align_items": null,
            "align_self": null,
            "border": null,
            "bottom": null,
            "display": null,
            "flex": null,
            "flex_flow": null,
            "grid_area": null,
            "grid_auto_columns": null,
            "grid_auto_flow": null,
            "grid_auto_rows": null,
            "grid_column": null,
            "grid_gap": null,
            "grid_row": null,
            "grid_template_areas": null,
            "grid_template_columns": null,
            "grid_template_rows": null,
            "height": null,
            "justify_content": null,
            "justify_items": null,
            "left": null,
            "margin": null,
            "max_height": null,
            "max_width": null,
            "min_height": null,
            "min_width": null,
            "object_fit": null,
            "object_position": null,
            "order": null,
            "overflow": null,
            "overflow_x": null,
            "overflow_y": null,
            "padding": null,
            "right": null,
            "top": null,
            "visibility": null,
            "width": null
          }
        },
        "4bf9e5a783c8425793145dafbb090df5": {
          "model_module": "@jupyter-widgets/base",
          "model_name": "LayoutModel",
          "model_module_version": "1.2.0",
          "state": {
            "_model_module": "@jupyter-widgets/base",
            "_model_module_version": "1.2.0",
            "_model_name": "LayoutModel",
            "_view_count": null,
            "_view_module": "@jupyter-widgets/base",
            "_view_module_version": "1.2.0",
            "_view_name": "LayoutView",
            "align_content": null,
            "align_items": null,
            "align_self": null,
            "border": null,
            "bottom": null,
            "display": null,
            "flex": null,
            "flex_flow": null,
            "grid_area": null,
            "grid_auto_columns": null,
            "grid_auto_flow": null,
            "grid_auto_rows": null,
            "grid_column": null,
            "grid_gap": null,
            "grid_row": null,
            "grid_template_areas": null,
            "grid_template_columns": null,
            "grid_template_rows": null,
            "height": null,
            "justify_content": null,
            "justify_items": null,
            "left": null,
            "margin": null,
            "max_height": null,
            "max_width": null,
            "min_height": null,
            "min_width": null,
            "object_fit": null,
            "object_position": null,
            "order": null,
            "overflow": null,
            "overflow_x": null,
            "overflow_y": null,
            "padding": null,
            "right": null,
            "top": null,
            "visibility": null,
            "width": null
          }
        },
        "e4571c391222492caedd33c0ba1a5f38": {
          "model_module": "@jupyter-widgets/controls",
          "model_name": "DescriptionStyleModel",
          "model_module_version": "1.5.0",
          "state": {
            "_model_module": "@jupyter-widgets/controls",
            "_model_module_version": "1.5.0",
            "_model_name": "DescriptionStyleModel",
            "_view_count": null,
            "_view_module": "@jupyter-widgets/base",
            "_view_module_version": "1.2.0",
            "_view_name": "StyleView",
            "description_width": ""
          }
        },
        "bc918260505748d9ae7b60acecd59436": {
          "model_module": "@jupyter-widgets/base",
          "model_name": "LayoutModel",
          "model_module_version": "1.2.0",
          "state": {
            "_model_module": "@jupyter-widgets/base",
            "_model_module_version": "1.2.0",
            "_model_name": "LayoutModel",
            "_view_count": null,
            "_view_module": "@jupyter-widgets/base",
            "_view_module_version": "1.2.0",
            "_view_name": "LayoutView",
            "align_content": null,
            "align_items": null,
            "align_self": null,
            "border": null,
            "bottom": null,
            "display": null,
            "flex": null,
            "flex_flow": null,
            "grid_area": null,
            "grid_auto_columns": null,
            "grid_auto_flow": null,
            "grid_auto_rows": null,
            "grid_column": null,
            "grid_gap": null,
            "grid_row": null,
            "grid_template_areas": null,
            "grid_template_columns": null,
            "grid_template_rows": null,
            "height": null,
            "justify_content": null,
            "justify_items": null,
            "left": null,
            "margin": null,
            "max_height": null,
            "max_width": null,
            "min_height": null,
            "min_width": null,
            "object_fit": null,
            "object_position": null,
            "order": null,
            "overflow": null,
            "overflow_x": null,
            "overflow_y": null,
            "padding": null,
            "right": null,
            "top": null,
            "visibility": null,
            "width": null
          }
        },
        "43fa6f1f4d36492f8d43760c17dc864a": {
          "model_module": "@jupyter-widgets/controls",
          "model_name": "ProgressStyleModel",
          "model_module_version": "1.5.0",
          "state": {
            "_model_module": "@jupyter-widgets/controls",
            "_model_module_version": "1.5.0",
            "_model_name": "ProgressStyleModel",
            "_view_count": null,
            "_view_module": "@jupyter-widgets/base",
            "_view_module_version": "1.2.0",
            "_view_name": "StyleView",
            "bar_color": null,
            "description_width": ""
          }
        },
        "ef093555fa304556b40f3ebf6cd075f3": {
          "model_module": "@jupyter-widgets/base",
          "model_name": "LayoutModel",
          "model_module_version": "1.2.0",
          "state": {
            "_model_module": "@jupyter-widgets/base",
            "_model_module_version": "1.2.0",
            "_model_name": "LayoutModel",
            "_view_count": null,
            "_view_module": "@jupyter-widgets/base",
            "_view_module_version": "1.2.0",
            "_view_name": "LayoutView",
            "align_content": null,
            "align_items": null,
            "align_self": null,
            "border": null,
            "bottom": null,
            "display": null,
            "flex": null,
            "flex_flow": null,
            "grid_area": null,
            "grid_auto_columns": null,
            "grid_auto_flow": null,
            "grid_auto_rows": null,
            "grid_column": null,
            "grid_gap": null,
            "grid_row": null,
            "grid_template_areas": null,
            "grid_template_columns": null,
            "grid_template_rows": null,
            "height": null,
            "justify_content": null,
            "justify_items": null,
            "left": null,
            "margin": null,
            "max_height": null,
            "max_width": null,
            "min_height": null,
            "min_width": null,
            "object_fit": null,
            "object_position": null,
            "order": null,
            "overflow": null,
            "overflow_x": null,
            "overflow_y": null,
            "padding": null,
            "right": null,
            "top": null,
            "visibility": null,
            "width": null
          }
        },
        "0f9d715d6d4b41e198317c5b1e1ce2e9": {
          "model_module": "@jupyter-widgets/controls",
          "model_name": "DescriptionStyleModel",
          "model_module_version": "1.5.0",
          "state": {
            "_model_module": "@jupyter-widgets/controls",
            "_model_module_version": "1.5.0",
            "_model_name": "DescriptionStyleModel",
            "_view_count": null,
            "_view_module": "@jupyter-widgets/base",
            "_view_module_version": "1.2.0",
            "_view_name": "StyleView",
            "description_width": ""
          }
        },
        "b92c22e9dbe14314bdde2f8b01bc4f66": {
          "model_module": "@jupyter-widgets/controls",
          "model_name": "HBoxModel",
          "model_module_version": "1.5.0",
          "state": {
            "_dom_classes": [],
            "_model_module": "@jupyter-widgets/controls",
            "_model_module_version": "1.5.0",
            "_model_name": "HBoxModel",
            "_view_count": null,
            "_view_module": "@jupyter-widgets/controls",
            "_view_module_version": "1.5.0",
            "_view_name": "HBoxView",
            "box_style": "",
            "children": [
              "IPY_MODEL_67eba38f4ed74027ae70a10cf9ea7423",
              "IPY_MODEL_51437bdccf1f43dd9e55cde0f3cdebdf",
              "IPY_MODEL_adc5961b1ce74cc9a262ded98c9b5754"
            ],
            "layout": "IPY_MODEL_05fade29ec534e1dbcd9e44b732443c8"
          }
        },
        "67eba38f4ed74027ae70a10cf9ea7423": {
          "model_module": "@jupyter-widgets/controls",
          "model_name": "HTMLModel",
          "model_module_version": "1.5.0",
          "state": {
            "_dom_classes": [],
            "_model_module": "@jupyter-widgets/controls",
            "_model_module_version": "1.5.0",
            "_model_name": "HTMLModel",
            "_view_count": null,
            "_view_module": "@jupyter-widgets/controls",
            "_view_module_version": "1.5.0",
            "_view_name": "HTMLView",
            "description": "",
            "description_tooltip": null,
            "layout": "IPY_MODEL_8f2e44154cec47f581059761223ceb0c",
            "placeholder": "​",
            "style": "IPY_MODEL_29cd23c564b84d79925ef4aef97c2249",
            "value": "model.safetensors: 100%"
          }
        },
        "51437bdccf1f43dd9e55cde0f3cdebdf": {
          "model_module": "@jupyter-widgets/controls",
          "model_name": "FloatProgressModel",
          "model_module_version": "1.5.0",
          "state": {
            "_dom_classes": [],
            "_model_module": "@jupyter-widgets/controls",
            "_model_module_version": "1.5.0",
            "_model_name": "FloatProgressModel",
            "_view_count": null,
            "_view_module": "@jupyter-widgets/controls",
            "_view_module_version": "1.5.0",
            "_view_name": "ProgressView",
            "bar_style": "success",
            "description": "",
            "description_tooltip": null,
            "layout": "IPY_MODEL_81adb000e2de422bb33a85ab3b4654bd",
            "max": 1583351632,
            "min": 0,
            "orientation": "horizontal",
            "style": "IPY_MODEL_143b57edab3044dea8463e73b759cb40",
            "value": 1583351632
          }
        },
        "adc5961b1ce74cc9a262ded98c9b5754": {
          "model_module": "@jupyter-widgets/controls",
          "model_name": "HTMLModel",
          "model_module_version": "1.5.0",
          "state": {
            "_dom_classes": [],
            "_model_module": "@jupyter-widgets/controls",
            "_model_module_version": "1.5.0",
            "_model_name": "HTMLModel",
            "_view_count": null,
            "_view_module": "@jupyter-widgets/controls",
            "_view_module_version": "1.5.0",
            "_view_name": "HTMLView",
            "description": "",
            "description_tooltip": null,
            "layout": "IPY_MODEL_194a8b9d90364a809d132b078892db3a",
            "placeholder": "​",
            "style": "IPY_MODEL_8139276e3aa84466b9ae56cddaa8ebe2",
            "value": " 1.58G/1.58G [01:15&lt;00:00, 14.2MB/s]"
          }
        },
        "05fade29ec534e1dbcd9e44b732443c8": {
          "model_module": "@jupyter-widgets/base",
          "model_name": "LayoutModel",
          "model_module_version": "1.2.0",
          "state": {
            "_model_module": "@jupyter-widgets/base",
            "_model_module_version": "1.2.0",
            "_model_name": "LayoutModel",
            "_view_count": null,
            "_view_module": "@jupyter-widgets/base",
            "_view_module_version": "1.2.0",
            "_view_name": "LayoutView",
            "align_content": null,
            "align_items": null,
            "align_self": null,
            "border": null,
            "bottom": null,
            "display": null,
            "flex": null,
            "flex_flow": null,
            "grid_area": null,
            "grid_auto_columns": null,
            "grid_auto_flow": null,
            "grid_auto_rows": null,
            "grid_column": null,
            "grid_gap": null,
            "grid_row": null,
            "grid_template_areas": null,
            "grid_template_columns": null,
            "grid_template_rows": null,
            "height": null,
            "justify_content": null,
            "justify_items": null,
            "left": null,
            "margin": null,
            "max_height": null,
            "max_width": null,
            "min_height": null,
            "min_width": null,
            "object_fit": null,
            "object_position": null,
            "order": null,
            "overflow": null,
            "overflow_x": null,
            "overflow_y": null,
            "padding": null,
            "right": null,
            "top": null,
            "visibility": null,
            "width": null
          }
        },
        "8f2e44154cec47f581059761223ceb0c": {
          "model_module": "@jupyter-widgets/base",
          "model_name": "LayoutModel",
          "model_module_version": "1.2.0",
          "state": {
            "_model_module": "@jupyter-widgets/base",
            "_model_module_version": "1.2.0",
            "_model_name": "LayoutModel",
            "_view_count": null,
            "_view_module": "@jupyter-widgets/base",
            "_view_module_version": "1.2.0",
            "_view_name": "LayoutView",
            "align_content": null,
            "align_items": null,
            "align_self": null,
            "border": null,
            "bottom": null,
            "display": null,
            "flex": null,
            "flex_flow": null,
            "grid_area": null,
            "grid_auto_columns": null,
            "grid_auto_flow": null,
            "grid_auto_rows": null,
            "grid_column": null,
            "grid_gap": null,
            "grid_row": null,
            "grid_template_areas": null,
            "grid_template_columns": null,
            "grid_template_rows": null,
            "height": null,
            "justify_content": null,
            "justify_items": null,
            "left": null,
            "margin": null,
            "max_height": null,
            "max_width": null,
            "min_height": null,
            "min_width": null,
            "object_fit": null,
            "object_position": null,
            "order": null,
            "overflow": null,
            "overflow_x": null,
            "overflow_y": null,
            "padding": null,
            "right": null,
            "top": null,
            "visibility": null,
            "width": null
          }
        },
        "29cd23c564b84d79925ef4aef97c2249": {
          "model_module": "@jupyter-widgets/controls",
          "model_name": "DescriptionStyleModel",
          "model_module_version": "1.5.0",
          "state": {
            "_model_module": "@jupyter-widgets/controls",
            "_model_module_version": "1.5.0",
            "_model_name": "DescriptionStyleModel",
            "_view_count": null,
            "_view_module": "@jupyter-widgets/base",
            "_view_module_version": "1.2.0",
            "_view_name": "StyleView",
            "description_width": ""
          }
        },
        "81adb000e2de422bb33a85ab3b4654bd": {
          "model_module": "@jupyter-widgets/base",
          "model_name": "LayoutModel",
          "model_module_version": "1.2.0",
          "state": {
            "_model_module": "@jupyter-widgets/base",
            "_model_module_version": "1.2.0",
            "_model_name": "LayoutModel",
            "_view_count": null,
            "_view_module": "@jupyter-widgets/base",
            "_view_module_version": "1.2.0",
            "_view_name": "LayoutView",
            "align_content": null,
            "align_items": null,
            "align_self": null,
            "border": null,
            "bottom": null,
            "display": null,
            "flex": null,
            "flex_flow": null,
            "grid_area": null,
            "grid_auto_columns": null,
            "grid_auto_flow": null,
            "grid_auto_rows": null,
            "grid_column": null,
            "grid_gap": null,
            "grid_row": null,
            "grid_template_areas": null,
            "grid_template_columns": null,
            "grid_template_rows": null,
            "height": null,
            "justify_content": null,
            "justify_items": null,
            "left": null,
            "margin": null,
            "max_height": null,
            "max_width": null,
            "min_height": null,
            "min_width": null,
            "object_fit": null,
            "object_position": null,
            "order": null,
            "overflow": null,
            "overflow_x": null,
            "overflow_y": null,
            "padding": null,
            "right": null,
            "top": null,
            "visibility": null,
            "width": null
          }
        },
        "143b57edab3044dea8463e73b759cb40": {
          "model_module": "@jupyter-widgets/controls",
          "model_name": "ProgressStyleModel",
          "model_module_version": "1.5.0",
          "state": {
            "_model_module": "@jupyter-widgets/controls",
            "_model_module_version": "1.5.0",
            "_model_name": "ProgressStyleModel",
            "_view_count": null,
            "_view_module": "@jupyter-widgets/base",
            "_view_module_version": "1.2.0",
            "_view_name": "StyleView",
            "bar_color": null,
            "description_width": ""
          }
        },
        "194a8b9d90364a809d132b078892db3a": {
          "model_module": "@jupyter-widgets/base",
          "model_name": "LayoutModel",
          "model_module_version": "1.2.0",
          "state": {
            "_model_module": "@jupyter-widgets/base",
            "_model_module_version": "1.2.0",
            "_model_name": "LayoutModel",
            "_view_count": null,
            "_view_module": "@jupyter-widgets/base",
            "_view_module_version": "1.2.0",
            "_view_name": "LayoutView",
            "align_content": null,
            "align_items": null,
            "align_self": null,
            "border": null,
            "bottom": null,
            "display": null,
            "flex": null,
            "flex_flow": null,
            "grid_area": null,
            "grid_auto_columns": null,
            "grid_auto_flow": null,
            "grid_auto_rows": null,
            "grid_column": null,
            "grid_gap": null,
            "grid_row": null,
            "grid_template_areas": null,
            "grid_template_columns": null,
            "grid_template_rows": null,
            "height": null,
            "justify_content": null,
            "justify_items": null,
            "left": null,
            "margin": null,
            "max_height": null,
            "max_width": null,
            "min_height": null,
            "min_width": null,
            "object_fit": null,
            "object_position": null,
            "order": null,
            "overflow": null,
            "overflow_x": null,
            "overflow_y": null,
            "padding": null,
            "right": null,
            "top": null,
            "visibility": null,
            "width": null
          }
        },
        "8139276e3aa84466b9ae56cddaa8ebe2": {
          "model_module": "@jupyter-widgets/controls",
          "model_name": "DescriptionStyleModel",
          "model_module_version": "1.5.0",
          "state": {
            "_model_module": "@jupyter-widgets/controls",
            "_model_module_version": "1.5.0",
            "_model_name": "DescriptionStyleModel",
            "_view_count": null,
            "_view_module": "@jupyter-widgets/base",
            "_view_module_version": "1.2.0",
            "_view_name": "StyleView",
            "description_width": ""
          }
        },
        "cad6e8c46a884435ad0016ddb124c3b0": {
          "model_module": "@jupyter-widgets/controls",
          "model_name": "HBoxModel",
          "model_module_version": "1.5.0",
          "state": {
            "_dom_classes": [],
            "_model_module": "@jupyter-widgets/controls",
            "_model_module_version": "1.5.0",
            "_model_name": "HBoxModel",
            "_view_count": null,
            "_view_module": "@jupyter-widgets/controls",
            "_view_module_version": "1.5.0",
            "_view_name": "HBoxView",
            "box_style": "",
            "children": [
              "IPY_MODEL_2b4b2aae73b448f3be5a572a0c7844a3",
              "IPY_MODEL_6a2ddf189cd04d0ab4d1e9c28261c913",
              "IPY_MODEL_c3bf919b72324f12893443f0cb6b76d0"
            ],
            "layout": "IPY_MODEL_77c707756e9742f1a6521116809f54a7"
          }
        },
        "2b4b2aae73b448f3be5a572a0c7844a3": {
          "model_module": "@jupyter-widgets/controls",
          "model_name": "HTMLModel",
          "model_module_version": "1.5.0",
          "state": {
            "_dom_classes": [],
            "_model_module": "@jupyter-widgets/controls",
            "_model_module_version": "1.5.0",
            "_model_name": "HTMLModel",
            "_view_count": null,
            "_view_module": "@jupyter-widgets/controls",
            "_view_module_version": "1.5.0",
            "_view_name": "HTMLView",
            "description": "",
            "description_tooltip": null,
            "layout": "IPY_MODEL_a924a31ee9d641c99d6d5645f79eda18",
            "placeholder": "​",
            "style": "IPY_MODEL_5ce3b40319e94b469de622050e4c8c0b",
            "value": "tokenizer_config.json: 100%"
          }
        },
        "6a2ddf189cd04d0ab4d1e9c28261c913": {
          "model_module": "@jupyter-widgets/controls",
          "model_name": "FloatProgressModel",
          "model_module_version": "1.5.0",
          "state": {
            "_dom_classes": [],
            "_model_module": "@jupyter-widgets/controls",
            "_model_module_version": "1.5.0",
            "_model_name": "FloatProgressModel",
            "_view_count": null,
            "_view_module": "@jupyter-widgets/controls",
            "_view_module_version": "1.5.0",
            "_view_name": "ProgressView",
            "bar_style": "success",
            "description": "",
            "description_tooltip": null,
            "layout": "IPY_MODEL_ffaeb3f8c978425aa9072375084a6675",
            "max": 20840,
            "min": 0,
            "orientation": "horizontal",
            "style": "IPY_MODEL_05500b12591a4770acd756793175a2bf",
            "value": 20840
          }
        },
        "c3bf919b72324f12893443f0cb6b76d0": {
          "model_module": "@jupyter-widgets/controls",
          "model_name": "HTMLModel",
          "model_module_version": "1.5.0",
          "state": {
            "_dom_classes": [],
            "_model_module": "@jupyter-widgets/controls",
            "_model_module_version": "1.5.0",
            "_model_name": "HTMLModel",
            "_view_count": null,
            "_view_module": "@jupyter-widgets/controls",
            "_view_module_version": "1.5.0",
            "_view_name": "HTMLView",
            "description": "",
            "description_tooltip": null,
            "layout": "IPY_MODEL_ebf37d05c9c94b60ad66bb88d7949987",
            "placeholder": "​",
            "style": "IPY_MODEL_a788bf4887814964bc4c4b69142bbe01",
            "value": " 20.8k/20.8k [00:00&lt;00:00, 1.71MB/s]"
          }
        },
        "77c707756e9742f1a6521116809f54a7": {
          "model_module": "@jupyter-widgets/base",
          "model_name": "LayoutModel",
          "model_module_version": "1.2.0",
          "state": {
            "_model_module": "@jupyter-widgets/base",
            "_model_module_version": "1.2.0",
            "_model_name": "LayoutModel",
            "_view_count": null,
            "_view_module": "@jupyter-widgets/base",
            "_view_module_version": "1.2.0",
            "_view_name": "LayoutView",
            "align_content": null,
            "align_items": null,
            "align_self": null,
            "border": null,
            "bottom": null,
            "display": null,
            "flex": null,
            "flex_flow": null,
            "grid_area": null,
            "grid_auto_columns": null,
            "grid_auto_flow": null,
            "grid_auto_rows": null,
            "grid_column": null,
            "grid_gap": null,
            "grid_row": null,
            "grid_template_areas": null,
            "grid_template_columns": null,
            "grid_template_rows": null,
            "height": null,
            "justify_content": null,
            "justify_items": null,
            "left": null,
            "margin": null,
            "max_height": null,
            "max_width": null,
            "min_height": null,
            "min_width": null,
            "object_fit": null,
            "object_position": null,
            "order": null,
            "overflow": null,
            "overflow_x": null,
            "overflow_y": null,
            "padding": null,
            "right": null,
            "top": null,
            "visibility": null,
            "width": null
          }
        },
        "a924a31ee9d641c99d6d5645f79eda18": {
          "model_module": "@jupyter-widgets/base",
          "model_name": "LayoutModel",
          "model_module_version": "1.2.0",
          "state": {
            "_model_module": "@jupyter-widgets/base",
            "_model_module_version": "1.2.0",
            "_model_name": "LayoutModel",
            "_view_count": null,
            "_view_module": "@jupyter-widgets/base",
            "_view_module_version": "1.2.0",
            "_view_name": "LayoutView",
            "align_content": null,
            "align_items": null,
            "align_self": null,
            "border": null,
            "bottom": null,
            "display": null,
            "flex": null,
            "flex_flow": null,
            "grid_area": null,
            "grid_auto_columns": null,
            "grid_auto_flow": null,
            "grid_auto_rows": null,
            "grid_column": null,
            "grid_gap": null,
            "grid_row": null,
            "grid_template_areas": null,
            "grid_template_columns": null,
            "grid_template_rows": null,
            "height": null,
            "justify_content": null,
            "justify_items": null,
            "left": null,
            "margin": null,
            "max_height": null,
            "max_width": null,
            "min_height": null,
            "min_width": null,
            "object_fit": null,
            "object_position": null,
            "order": null,
            "overflow": null,
            "overflow_x": null,
            "overflow_y": null,
            "padding": null,
            "right": null,
            "top": null,
            "visibility": null,
            "width": null
          }
        },
        "5ce3b40319e94b469de622050e4c8c0b": {
          "model_module": "@jupyter-widgets/controls",
          "model_name": "DescriptionStyleModel",
          "model_module_version": "1.5.0",
          "state": {
            "_model_module": "@jupyter-widgets/controls",
            "_model_module_version": "1.5.0",
            "_model_name": "DescriptionStyleModel",
            "_view_count": null,
            "_view_module": "@jupyter-widgets/base",
            "_view_module_version": "1.2.0",
            "_view_name": "StyleView",
            "description_width": ""
          }
        },
        "ffaeb3f8c978425aa9072375084a6675": {
          "model_module": "@jupyter-widgets/base",
          "model_name": "LayoutModel",
          "model_module_version": "1.2.0",
          "state": {
            "_model_module": "@jupyter-widgets/base",
            "_model_module_version": "1.2.0",
            "_model_name": "LayoutModel",
            "_view_count": null,
            "_view_module": "@jupyter-widgets/base",
            "_view_module_version": "1.2.0",
            "_view_name": "LayoutView",
            "align_content": null,
            "align_items": null,
            "align_self": null,
            "border": null,
            "bottom": null,
            "display": null,
            "flex": null,
            "flex_flow": null,
            "grid_area": null,
            "grid_auto_columns": null,
            "grid_auto_flow": null,
            "grid_auto_rows": null,
            "grid_column": null,
            "grid_gap": null,
            "grid_row": null,
            "grid_template_areas": null,
            "grid_template_columns": null,
            "grid_template_rows": null,
            "height": null,
            "justify_content": null,
            "justify_items": null,
            "left": null,
            "margin": null,
            "max_height": null,
            "max_width": null,
            "min_height": null,
            "min_width": null,
            "object_fit": null,
            "object_position": null,
            "order": null,
            "overflow": null,
            "overflow_x": null,
            "overflow_y": null,
            "padding": null,
            "right": null,
            "top": null,
            "visibility": null,
            "width": null
          }
        },
        "05500b12591a4770acd756793175a2bf": {
          "model_module": "@jupyter-widgets/controls",
          "model_name": "ProgressStyleModel",
          "model_module_version": "1.5.0",
          "state": {
            "_model_module": "@jupyter-widgets/controls",
            "_model_module_version": "1.5.0",
            "_model_name": "ProgressStyleModel",
            "_view_count": null,
            "_view_module": "@jupyter-widgets/base",
            "_view_module_version": "1.2.0",
            "_view_name": "StyleView",
            "bar_color": null,
            "description_width": ""
          }
        },
        "ebf37d05c9c94b60ad66bb88d7949987": {
          "model_module": "@jupyter-widgets/base",
          "model_name": "LayoutModel",
          "model_module_version": "1.2.0",
          "state": {
            "_model_module": "@jupyter-widgets/base",
            "_model_module_version": "1.2.0",
            "_model_name": "LayoutModel",
            "_view_count": null,
            "_view_module": "@jupyter-widgets/base",
            "_view_module_version": "1.2.0",
            "_view_name": "LayoutView",
            "align_content": null,
            "align_items": null,
            "align_self": null,
            "border": null,
            "bottom": null,
            "display": null,
            "flex": null,
            "flex_flow": null,
            "grid_area": null,
            "grid_auto_columns": null,
            "grid_auto_flow": null,
            "grid_auto_rows": null,
            "grid_column": null,
            "grid_gap": null,
            "grid_row": null,
            "grid_template_areas": null,
            "grid_template_columns": null,
            "grid_template_rows": null,
            "height": null,
            "justify_content": null,
            "justify_items": null,
            "left": null,
            "margin": null,
            "max_height": null,
            "max_width": null,
            "min_height": null,
            "min_width": null,
            "object_fit": null,
            "object_position": null,
            "order": null,
            "overflow": null,
            "overflow_x": null,
            "overflow_y": null,
            "padding": null,
            "right": null,
            "top": null,
            "visibility": null,
            "width": null
          }
        },
        "a788bf4887814964bc4c4b69142bbe01": {
          "model_module": "@jupyter-widgets/controls",
          "model_name": "DescriptionStyleModel",
          "model_module_version": "1.5.0",
          "state": {
            "_model_module": "@jupyter-widgets/controls",
            "_model_module_version": "1.5.0",
            "_model_name": "DescriptionStyleModel",
            "_view_count": null,
            "_view_module": "@jupyter-widgets/base",
            "_view_module_version": "1.2.0",
            "_view_name": "StyleView",
            "description_width": ""
          }
        },
        "edddab6e2dfd4ee2946b97bc186291ef": {
          "model_module": "@jupyter-widgets/controls",
          "model_name": "HBoxModel",
          "model_module_version": "1.5.0",
          "state": {
            "_dom_classes": [],
            "_model_module": "@jupyter-widgets/controls",
            "_model_module_version": "1.5.0",
            "_model_name": "HBoxModel",
            "_view_count": null,
            "_view_module": "@jupyter-widgets/controls",
            "_view_module_version": "1.5.0",
            "_view_name": "HBoxView",
            "box_style": "",
            "children": [
              "IPY_MODEL_0ce666ad17334e2d89d78f1eb4fad8dc",
              "IPY_MODEL_95fc99a7af7e43f5898257432d4ba018",
              "IPY_MODEL_2dc7efef892e43daa44a579961fd3ebc"
            ],
            "layout": "IPY_MODEL_3a6350d47ae24ee5bad9345f503eafc2"
          }
        },
        "0ce666ad17334e2d89d78f1eb4fad8dc": {
          "model_module": "@jupyter-widgets/controls",
          "model_name": "HTMLModel",
          "model_module_version": "1.5.0",
          "state": {
            "_dom_classes": [],
            "_model_module": "@jupyter-widgets/controls",
            "_model_module_version": "1.5.0",
            "_model_name": "HTMLModel",
            "_view_count": null,
            "_view_module": "@jupyter-widgets/controls",
            "_view_module_version": "1.5.0",
            "_view_name": "HTMLView",
            "description": "",
            "description_tooltip": null,
            "layout": "IPY_MODEL_051c1b4396b54ba39e01db48bec311a0",
            "placeholder": "​",
            "style": "IPY_MODEL_febea2fe17a84311b80154a597e3ed2d",
            "value": "tokenizer.json: 100%"
          }
        },
        "95fc99a7af7e43f5898257432d4ba018": {
          "model_module": "@jupyter-widgets/controls",
          "model_name": "FloatProgressModel",
          "model_module_version": "1.5.0",
          "state": {
            "_dom_classes": [],
            "_model_module": "@jupyter-widgets/controls",
            "_model_module_version": "1.5.0",
            "_model_name": "FloatProgressModel",
            "_view_count": null,
            "_view_module": "@jupyter-widgets/controls",
            "_view_module_version": "1.5.0",
            "_view_name": "ProgressView",
            "bar_style": "success",
            "description": "",
            "description_tooltip": null,
            "layout": "IPY_MODEL_db231d37315e4dabb9ddb128b5d590a6",
            "max": 3583499,
            "min": 0,
            "orientation": "horizontal",
            "style": "IPY_MODEL_37aa6dfe99084a26ac6642b95cbdb0d7",
            "value": 3583499
          }
        },
        "2dc7efef892e43daa44a579961fd3ebc": {
          "model_module": "@jupyter-widgets/controls",
          "model_name": "HTMLModel",
          "model_module_version": "1.5.0",
          "state": {
            "_dom_classes": [],
            "_model_module": "@jupyter-widgets/controls",
            "_model_module_version": "1.5.0",
            "_model_name": "HTMLModel",
            "_view_count": null,
            "_view_module": "@jupyter-widgets/controls",
            "_view_module_version": "1.5.0",
            "_view_name": "HTMLView",
            "description": "",
            "description_tooltip": null,
            "layout": "IPY_MODEL_9c87c52550de44338e2e555e790930a2",
            "placeholder": "​",
            "style": "IPY_MODEL_98c2123f43704859944f43acd3347aa7",
            "value": " 3.58M/3.58M [00:01&lt;00:00, 3.13MB/s]"
          }
        },
        "3a6350d47ae24ee5bad9345f503eafc2": {
          "model_module": "@jupyter-widgets/base",
          "model_name": "LayoutModel",
          "model_module_version": "1.2.0",
          "state": {
            "_model_module": "@jupyter-widgets/base",
            "_model_module_version": "1.2.0",
            "_model_name": "LayoutModel",
            "_view_count": null,
            "_view_module": "@jupyter-widgets/base",
            "_view_module_version": "1.2.0",
            "_view_name": "LayoutView",
            "align_content": null,
            "align_items": null,
            "align_self": null,
            "border": null,
            "bottom": null,
            "display": null,
            "flex": null,
            "flex_flow": null,
            "grid_area": null,
            "grid_auto_columns": null,
            "grid_auto_flow": null,
            "grid_auto_rows": null,
            "grid_column": null,
            "grid_gap": null,
            "grid_row": null,
            "grid_template_areas": null,
            "grid_template_columns": null,
            "grid_template_rows": null,
            "height": null,
            "justify_content": null,
            "justify_items": null,
            "left": null,
            "margin": null,
            "max_height": null,
            "max_width": null,
            "min_height": null,
            "min_width": null,
            "object_fit": null,
            "object_position": null,
            "order": null,
            "overflow": null,
            "overflow_x": null,
            "overflow_y": null,
            "padding": null,
            "right": null,
            "top": null,
            "visibility": null,
            "width": null
          }
        },
        "051c1b4396b54ba39e01db48bec311a0": {
          "model_module": "@jupyter-widgets/base",
          "model_name": "LayoutModel",
          "model_module_version": "1.2.0",
          "state": {
            "_model_module": "@jupyter-widgets/base",
            "_model_module_version": "1.2.0",
            "_model_name": "LayoutModel",
            "_view_count": null,
            "_view_module": "@jupyter-widgets/base",
            "_view_module_version": "1.2.0",
            "_view_name": "LayoutView",
            "align_content": null,
            "align_items": null,
            "align_self": null,
            "border": null,
            "bottom": null,
            "display": null,
            "flex": null,
            "flex_flow": null,
            "grid_area": null,
            "grid_auto_columns": null,
            "grid_auto_flow": null,
            "grid_auto_rows": null,
            "grid_column": null,
            "grid_gap": null,
            "grid_row": null,
            "grid_template_areas": null,
            "grid_template_columns": null,
            "grid_template_rows": null,
            "height": null,
            "justify_content": null,
            "justify_items": null,
            "left": null,
            "margin": null,
            "max_height": null,
            "max_width": null,
            "min_height": null,
            "min_width": null,
            "object_fit": null,
            "object_position": null,
            "order": null,
            "overflow": null,
            "overflow_x": null,
            "overflow_y": null,
            "padding": null,
            "right": null,
            "top": null,
            "visibility": null,
            "width": null
          }
        },
        "febea2fe17a84311b80154a597e3ed2d": {
          "model_module": "@jupyter-widgets/controls",
          "model_name": "DescriptionStyleModel",
          "model_module_version": "1.5.0",
          "state": {
            "_model_module": "@jupyter-widgets/controls",
            "_model_module_version": "1.5.0",
            "_model_name": "DescriptionStyleModel",
            "_view_count": null,
            "_view_module": "@jupyter-widgets/base",
            "_view_module_version": "1.2.0",
            "_view_name": "StyleView",
            "description_width": ""
          }
        },
        "db231d37315e4dabb9ddb128b5d590a6": {
          "model_module": "@jupyter-widgets/base",
          "model_name": "LayoutModel",
          "model_module_version": "1.2.0",
          "state": {
            "_model_module": "@jupyter-widgets/base",
            "_model_module_version": "1.2.0",
            "_model_name": "LayoutModel",
            "_view_count": null,
            "_view_module": "@jupyter-widgets/base",
            "_view_module_version": "1.2.0",
            "_view_name": "LayoutView",
            "align_content": null,
            "align_items": null,
            "align_self": null,
            "border": null,
            "bottom": null,
            "display": null,
            "flex": null,
            "flex_flow": null,
            "grid_area": null,
            "grid_auto_columns": null,
            "grid_auto_flow": null,
            "grid_auto_rows": null,
            "grid_column": null,
            "grid_gap": null,
            "grid_row": null,
            "grid_template_areas": null,
            "grid_template_columns": null,
            "grid_template_rows": null,
            "height": null,
            "justify_content": null,
            "justify_items": null,
            "left": null,
            "margin": null,
            "max_height": null,
            "max_width": null,
            "min_height": null,
            "min_width": null,
            "object_fit": null,
            "object_position": null,
            "order": null,
            "overflow": null,
            "overflow_x": null,
            "overflow_y": null,
            "padding": null,
            "right": null,
            "top": null,
            "visibility": null,
            "width": null
          }
        },
        "37aa6dfe99084a26ac6642b95cbdb0d7": {
          "model_module": "@jupyter-widgets/controls",
          "model_name": "ProgressStyleModel",
          "model_module_version": "1.5.0",
          "state": {
            "_model_module": "@jupyter-widgets/controls",
            "_model_module_version": "1.5.0",
            "_model_name": "ProgressStyleModel",
            "_view_count": null,
            "_view_module": "@jupyter-widgets/base",
            "_view_module_version": "1.2.0",
            "_view_name": "StyleView",
            "bar_color": null,
            "description_width": ""
          }
        },
        "9c87c52550de44338e2e555e790930a2": {
          "model_module": "@jupyter-widgets/base",
          "model_name": "LayoutModel",
          "model_module_version": "1.2.0",
          "state": {
            "_model_module": "@jupyter-widgets/base",
            "_model_module_version": "1.2.0",
            "_model_name": "LayoutModel",
            "_view_count": null,
            "_view_module": "@jupyter-widgets/base",
            "_view_module_version": "1.2.0",
            "_view_name": "LayoutView",
            "align_content": null,
            "align_items": null,
            "align_self": null,
            "border": null,
            "bottom": null,
            "display": null,
            "flex": null,
            "flex_flow": null,
            "grid_area": null,
            "grid_auto_columns": null,
            "grid_auto_flow": null,
            "grid_auto_rows": null,
            "grid_column": null,
            "grid_gap": null,
            "grid_row": null,
            "grid_template_areas": null,
            "grid_template_columns": null,
            "grid_template_rows": null,
            "height": null,
            "justify_content": null,
            "justify_items": null,
            "left": null,
            "margin": null,
            "max_height": null,
            "max_width": null,
            "min_height": null,
            "min_width": null,
            "object_fit": null,
            "object_position": null,
            "order": null,
            "overflow": null,
            "overflow_x": null,
            "overflow_y": null,
            "padding": null,
            "right": null,
            "top": null,
            "visibility": null,
            "width": null
          }
        },
        "98c2123f43704859944f43acd3347aa7": {
          "model_module": "@jupyter-widgets/controls",
          "model_name": "DescriptionStyleModel",
          "model_module_version": "1.5.0",
          "state": {
            "_model_module": "@jupyter-widgets/controls",
            "_model_module_version": "1.5.0",
            "_model_name": "DescriptionStyleModel",
            "_view_count": null,
            "_view_module": "@jupyter-widgets/base",
            "_view_module_version": "1.2.0",
            "_view_name": "StyleView",
            "description_width": ""
          }
        },
        "371f9e7f45a849c8b1b04065d8cb13f3": {
          "model_module": "@jupyter-widgets/controls",
          "model_name": "HBoxModel",
          "model_module_version": "1.5.0",
          "state": {
            "_dom_classes": [],
            "_model_module": "@jupyter-widgets/controls",
            "_model_module_version": "1.5.0",
            "_model_name": "HBoxModel",
            "_view_count": null,
            "_view_module": "@jupyter-widgets/controls",
            "_view_module_version": "1.5.0",
            "_view_name": "HBoxView",
            "box_style": "",
            "children": [
              "IPY_MODEL_67aa08c38eea4ac88ce420e0ecd3d570",
              "IPY_MODEL_73ba1bf30ddc480ab22cd0352f9ef8d0",
              "IPY_MODEL_ca4c12f3de1c487cbd917e72b808ef9e"
            ],
            "layout": "IPY_MODEL_8a5a7e7d69404e57b8a048993e5512ea"
          }
        },
        "67aa08c38eea4ac88ce420e0ecd3d570": {
          "model_module": "@jupyter-widgets/controls",
          "model_name": "HTMLModel",
          "model_module_version": "1.5.0",
          "state": {
            "_dom_classes": [],
            "_model_module": "@jupyter-widgets/controls",
            "_model_module_version": "1.5.0",
            "_model_name": "HTMLModel",
            "_view_count": null,
            "_view_module": "@jupyter-widgets/controls",
            "_view_module_version": "1.5.0",
            "_view_name": "HTMLView",
            "description": "",
            "description_tooltip": null,
            "layout": "IPY_MODEL_346aaf44dd5c4623b92cc64fc6686666",
            "placeholder": "​",
            "style": "IPY_MODEL_be70afa7bd8f4e45951c0650989be105",
            "value": "special_tokens_map.json: 100%"
          }
        },
        "73ba1bf30ddc480ab22cd0352f9ef8d0": {
          "model_module": "@jupyter-widgets/controls",
          "model_name": "FloatProgressModel",
          "model_module_version": "1.5.0",
          "state": {
            "_dom_classes": [],
            "_model_module": "@jupyter-widgets/controls",
            "_model_module_version": "1.5.0",
            "_model_name": "FloatProgressModel",
            "_view_count": null,
            "_view_module": "@jupyter-widgets/controls",
            "_view_module_version": "1.5.0",
            "_view_name": "ProgressView",
            "bar_style": "success",
            "description": "",
            "description_tooltip": null,
            "layout": "IPY_MODEL_843b48f830e8490ebfe5bdf364b35745",
            "max": 694,
            "min": 0,
            "orientation": "horizontal",
            "style": "IPY_MODEL_4369929d987f4e24be8d8ab1c267458d",
            "value": 694
          }
        },
        "ca4c12f3de1c487cbd917e72b808ef9e": {
          "model_module": "@jupyter-widgets/controls",
          "model_name": "HTMLModel",
          "model_module_version": "1.5.0",
          "state": {
            "_dom_classes": [],
            "_model_module": "@jupyter-widgets/controls",
            "_model_module_version": "1.5.0",
            "_model_name": "HTMLModel",
            "_view_count": null,
            "_view_module": "@jupyter-widgets/controls",
            "_view_module_version": "1.5.0",
            "_view_name": "HTMLView",
            "description": "",
            "description_tooltip": null,
            "layout": "IPY_MODEL_8089f68a387d4dcfb83efb2e91c6842a",
            "placeholder": "​",
            "style": "IPY_MODEL_fe6ba58fb3ae466d8d8f0ef271ff315f",
            "value": " 694/694 [00:00&lt;00:00, 56.8kB/s]"
          }
        },
        "8a5a7e7d69404e57b8a048993e5512ea": {
          "model_module": "@jupyter-widgets/base",
          "model_name": "LayoutModel",
          "model_module_version": "1.2.0",
          "state": {
            "_model_module": "@jupyter-widgets/base",
            "_model_module_version": "1.2.0",
            "_model_name": "LayoutModel",
            "_view_count": null,
            "_view_module": "@jupyter-widgets/base",
            "_view_module_version": "1.2.0",
            "_view_name": "LayoutView",
            "align_content": null,
            "align_items": null,
            "align_self": null,
            "border": null,
            "bottom": null,
            "display": null,
            "flex": null,
            "flex_flow": null,
            "grid_area": null,
            "grid_auto_columns": null,
            "grid_auto_flow": null,
            "grid_auto_rows": null,
            "grid_column": null,
            "grid_gap": null,
            "grid_row": null,
            "grid_template_areas": null,
            "grid_template_columns": null,
            "grid_template_rows": null,
            "height": null,
            "justify_content": null,
            "justify_items": null,
            "left": null,
            "margin": null,
            "max_height": null,
            "max_width": null,
            "min_height": null,
            "min_width": null,
            "object_fit": null,
            "object_position": null,
            "order": null,
            "overflow": null,
            "overflow_x": null,
            "overflow_y": null,
            "padding": null,
            "right": null,
            "top": null,
            "visibility": null,
            "width": null
          }
        },
        "346aaf44dd5c4623b92cc64fc6686666": {
          "model_module": "@jupyter-widgets/base",
          "model_name": "LayoutModel",
          "model_module_version": "1.2.0",
          "state": {
            "_model_module": "@jupyter-widgets/base",
            "_model_module_version": "1.2.0",
            "_model_name": "LayoutModel",
            "_view_count": null,
            "_view_module": "@jupyter-widgets/base",
            "_view_module_version": "1.2.0",
            "_view_name": "LayoutView",
            "align_content": null,
            "align_items": null,
            "align_self": null,
            "border": null,
            "bottom": null,
            "display": null,
            "flex": null,
            "flex_flow": null,
            "grid_area": null,
            "grid_auto_columns": null,
            "grid_auto_flow": null,
            "grid_auto_rows": null,
            "grid_column": null,
            "grid_gap": null,
            "grid_row": null,
            "grid_template_areas": null,
            "grid_template_columns": null,
            "grid_template_rows": null,
            "height": null,
            "justify_content": null,
            "justify_items": null,
            "left": null,
            "margin": null,
            "max_height": null,
            "max_width": null,
            "min_height": null,
            "min_width": null,
            "object_fit": null,
            "object_position": null,
            "order": null,
            "overflow": null,
            "overflow_x": null,
            "overflow_y": null,
            "padding": null,
            "right": null,
            "top": null,
            "visibility": null,
            "width": null
          }
        },
        "be70afa7bd8f4e45951c0650989be105": {
          "model_module": "@jupyter-widgets/controls",
          "model_name": "DescriptionStyleModel",
          "model_module_version": "1.5.0",
          "state": {
            "_model_module": "@jupyter-widgets/controls",
            "_model_module_version": "1.5.0",
            "_model_name": "DescriptionStyleModel",
            "_view_count": null,
            "_view_module": "@jupyter-widgets/base",
            "_view_module_version": "1.2.0",
            "_view_name": "StyleView",
            "description_width": ""
          }
        },
        "843b48f830e8490ebfe5bdf364b35745": {
          "model_module": "@jupyter-widgets/base",
          "model_name": "LayoutModel",
          "model_module_version": "1.2.0",
          "state": {
            "_model_module": "@jupyter-widgets/base",
            "_model_module_version": "1.2.0",
            "_model_name": "LayoutModel",
            "_view_count": null,
            "_view_module": "@jupyter-widgets/base",
            "_view_module_version": "1.2.0",
            "_view_name": "LayoutView",
            "align_content": null,
            "align_items": null,
            "align_self": null,
            "border": null,
            "bottom": null,
            "display": null,
            "flex": null,
            "flex_flow": null,
            "grid_area": null,
            "grid_auto_columns": null,
            "grid_auto_flow": null,
            "grid_auto_rows": null,
            "grid_column": null,
            "grid_gap": null,
            "grid_row": null,
            "grid_template_areas": null,
            "grid_template_columns": null,
            "grid_template_rows": null,
            "height": null,
            "justify_content": null,
            "justify_items": null,
            "left": null,
            "margin": null,
            "max_height": null,
            "max_width": null,
            "min_height": null,
            "min_width": null,
            "object_fit": null,
            "object_position": null,
            "order": null,
            "overflow": null,
            "overflow_x": null,
            "overflow_y": null,
            "padding": null,
            "right": null,
            "top": null,
            "visibility": null,
            "width": null
          }
        },
        "4369929d987f4e24be8d8ab1c267458d": {
          "model_module": "@jupyter-widgets/controls",
          "model_name": "ProgressStyleModel",
          "model_module_version": "1.5.0",
          "state": {
            "_model_module": "@jupyter-widgets/controls",
            "_model_module_version": "1.5.0",
            "_model_name": "ProgressStyleModel",
            "_view_count": null,
            "_view_module": "@jupyter-widgets/base",
            "_view_module_version": "1.2.0",
            "_view_name": "StyleView",
            "bar_color": null,
            "description_width": ""
          }
        },
        "8089f68a387d4dcfb83efb2e91c6842a": {
          "model_module": "@jupyter-widgets/base",
          "model_name": "LayoutModel",
          "model_module_version": "1.2.0",
          "state": {
            "_model_module": "@jupyter-widgets/base",
            "_model_module_version": "1.2.0",
            "_model_name": "LayoutModel",
            "_view_count": null,
            "_view_module": "@jupyter-widgets/base",
            "_view_module_version": "1.2.0",
            "_view_name": "LayoutView",
            "align_content": null,
            "align_items": null,
            "align_self": null,
            "border": null,
            "bottom": null,
            "display": null,
            "flex": null,
            "flex_flow": null,
            "grid_area": null,
            "grid_auto_columns": null,
            "grid_auto_flow": null,
            "grid_auto_rows": null,
            "grid_column": null,
            "grid_gap": null,
            "grid_row": null,
            "grid_template_areas": null,
            "grid_template_columns": null,
            "grid_template_rows": null,
            "height": null,
            "justify_content": null,
            "justify_items": null,
            "left": null,
            "margin": null,
            "max_height": null,
            "max_width": null,
            "min_height": null,
            "min_width": null,
            "object_fit": null,
            "object_position": null,
            "order": null,
            "overflow": null,
            "overflow_x": null,
            "overflow_y": null,
            "padding": null,
            "right": null,
            "top": null,
            "visibility": null,
            "width": null
          }
        },
        "fe6ba58fb3ae466d8d8f0ef271ff315f": {
          "model_module": "@jupyter-widgets/controls",
          "model_name": "DescriptionStyleModel",
          "model_module_version": "1.5.0",
          "state": {
            "_model_module": "@jupyter-widgets/controls",
            "_model_module_version": "1.5.0",
            "_model_name": "DescriptionStyleModel",
            "_view_count": null,
            "_view_module": "@jupyter-widgets/base",
            "_view_module_version": "1.2.0",
            "_view_name": "StyleView",
            "description_width": ""
          }
        }
      }
    }
  },
  "cells": [
    {
      "cell_type": "markdown",
      "metadata": {
        "id": "view-in-github",
        "colab_type": "text"
      },
      "source": [
        "<a href=\"https://colab.research.google.com/github/bsmider/colab/blob/main/ModernBERT_Large_LLMRouter_Finetuning.ipynb\" target=\"_parent\"><img src=\"https://colab.research.google.com/assets/colab-badge.svg\" alt=\"Open In Colab\"/></a>"
      ]
    },
    {
      "cell_type": "markdown",
      "source": [
        "# Finetuning ModernBERT Large for LLM Router Classification\n",
        "\n",
        "An annotated colab notebook for finetuning [ModernBERT-large](https://huggingface.co/answerdotai/ModernBERT-large) based on Phillip Schmid's [Fine-tune classifier with ModernBERT in 2025\n",
        "](https://www.philschmid.de/fine-tune-modern-bert-in-2025) blog post. Methodology and code credits to Phillip, check out his other great writeups!\n"
      ],
      "metadata": {
        "id": "TZkbn6QUF9PA"
      }
    },
    {
      "cell_type": "markdown",
      "source": [
        "---\n",
        "## Dependencies"
      ],
      "metadata": {
        "id": "fkNKDGlgM4J1"
      }
    },
    {
      "cell_type": "code",
      "execution_count": null,
      "metadata": {
        "collapsed": true,
        "id": "jZM_9kYpMrIE"
      },
      "outputs": [],
      "source": [
        "%%capture\n",
        "# Install Pytorch & other libraries\n",
        "%pip install \"torch==2.4.1\" tensorboard\n",
        "%pip install flash-attn \"setuptools<71.0.0\" scikit-learn\n",
        "%pip install --upgrade torchvision\n",
        "\n",
        "# Install Hugging Face libraries\n",
        "%pip install  --upgrade \\\n",
        "  \"datasets==3.1.0\" \\\n",
        "  \"accelerate==1.2.1\" \\\n",
        "  \"hf-transfer==0.1.8\"\n",
        "\n",
        "# ModernBERT is not yet available in an official transformers release, so we need to install it from github\n",
        "%pip install \"git+https://github.com/huggingface/transformers.git@6e0515e99c39444caae39472ee1b2fd76ece32f1\" --upgrade"
      ]
    },
    {
      "cell_type": "markdown",
      "source": [
        "---\n",
        "## HuggingFace Login\n",
        "\n",
        "Grabbing our HuggingFace token to both access hub models/datasets, as well as push our fine tuned model back to the hub. Set up your own token [using this link](https://huggingface.co/settings/tokens) and either store it in your Colab secrets like I have here, or directly pass it through the `token` argument."
      ],
      "metadata": {
        "id": "UC5B2Vd9GZ4Z"
      }
    },
    {
      "cell_type": "code",
      "source": [
        "from huggingface_hub import login\n",
        "from google.colab import userdata\n",
        "\n",
        "login(token=userdata.get('HF_TOKEN'), add_to_git_credential=True)"
      ],
      "metadata": {
        "id": "WXpDOLqONDXy"
      },
      "execution_count": null,
      "outputs": []
    },
    {
      "cell_type": "markdown",
      "source": [
        "---\n",
        "## Dataset Preparation\n",
        "\n",
        "Our main goal is to fine tune ModernBERT-large for predicting whether a query needs to be routed to a large or small LLM. To teach this classification, we'll be using the [DevQuasar/llm_router_dataset-synth](https://huggingface.co/datasets/DevQuasar/llm_router_dataset-synth) dataset. A collection of ~15,000 prompt and label pairs."
      ],
      "metadata": {
        "id": "W9EksqEuHj3R"
      }
    },
    {
      "cell_type": "code",
      "source": [
        "from datasets import load_dataset\n",
        "\n",
        "# Dataset id from huggingface.co/dataset\n",
        "# dataset_id = \"DevQuasar/llm_router_dataset-synth\"\n",
        "\n",
        "# Load raw dataset\n",
        "dataset = load_dataset(\"open-r1/OpenR1-Math-220k\", \"default\")\n",
        "print(dataset)\n",
        "# # Split into our Test & Train sets\n",
        "# train_dataset = raw_dataset['train']\n",
        "# test_dataset = raw_dataset['test']\n",
        "\n",
        "# print(f\"Train dataset size: {len(train_dataset)}\")\n",
        "# print(f\"Test dataset size: {len(test_dataset)}\")"
      ],
      "metadata": {
        "colab": {
          "base_uri": "https://localhost:8080/"
        },
        "id": "9pIGYMtgNMaM",
        "outputId": "9aeecf91-0aad-4dfb-f297-d45da7477a37"
      },
      "execution_count": null,
      "outputs": [
        {
          "output_type": "stream",
          "name": "stdout",
          "text": [
            "Train dataset size: 15306\n",
            "Test dataset size: 4921\n"
          ]
        }
      ]
    },
    {
      "cell_type": "markdown",
      "source": [
        "The Transformers trainer is going to expect not just a train and test set, but two columns, one marked `labels` and one marked `text`. We can clean up our train and test data using the datasets `.remove_columns` and `.renamed_column` methods to prepare our data."
      ],
      "metadata": {
        "id": "ekYKzediJrVC"
      }
    },
    {
      "cell_type": "code",
      "source": [
        "cleaned_dataset = dataset.remove_columns([col for col in dataset['train'].column_names if col not in [\"problem\", \"problem_type\"]])\n",
        "new_dataset = cleaned_dataset.rename_column(\"problem\", \"text\")\n",
        "new_dataset = new_dataset.rename_column(\"problem_type\", \"labels\")\n",
        "\n",
        "print(new_dataset)\n",
        "\n",
        "# get rid of other\n",
        "new_dataset['train'] = new_dataset['train'].filter(lambda example: example[\"labels\"] != \"Other\")  # Replace \"label\" with the actual column name\n",
        "print(new_dataset)\n",
        "\n",
        "unique_values = set(new_dataset[\"train\"][\"labels\"])\n",
        "print(unique_values)"
      ],
      "metadata": {
        "id": "F1bjHJSq68BO"
      },
      "execution_count": null,
      "outputs": []
    },
    {
      "cell_type": "code",
      "source": [
        "# transfer word labels to integers for input\n",
        "indexing = []\n",
        "for i in unique_values:\n",
        "  indexing.append(i)\n",
        "\n",
        "print(indexing)\n",
        "\n",
        "label2id = {}\n",
        "id2label = {}\n",
        "for i in range(len(indexing)):\n",
        "  label2id[indexing[i]] = str(i)\n",
        "  id2label[str(i)] = indexing[i]\n",
        "\n",
        "print(label2id)\n",
        "print(id2label)\n",
        "# label2id = {\"small_llm\": \"0\", \"large_llm\": \"1\"}\n",
        "# id2label = {\"0\": \"small_llm\", \"1\": \"large_llm\"}\n",
        "# print(label2id)\n",
        "# print(id2label)"
      ],
      "metadata": {
        "colab": {
          "base_uri": "https://localhost:8080/"
        },
        "id": "1nz7elbz7Yby",
        "outputId": "d22b26e5-de46-400a-8318-5ed380610d55"
      },
      "execution_count": null,
      "outputs": [
        {
          "output_type": "execute_result",
          "data": {
            "text/plain": [
              "Dataset({\n",
              "    features: ['text', 'labels'],\n",
              "    num_rows: 4921\n",
              "})"
            ]
          },
          "metadata": {},
          "execution_count": 4
        }
      ]
    },
    {
      "cell_type": "code",
      "source": [
        "from collections import Counter\n",
        "\n",
        "# convert all label word occurences to an integer\n",
        "print(new_dataset)\n",
        "new_dataset[\"train\"] = new_dataset[\"train\"].map(lambda example: {\"labels\": label2id.get(example[\"labels\"], example[\"labels\"])})\n",
        "print(new_dataset)\n",
        "label_counts = Counter(new_dataset[\"train\"][\"labels\"])  # Replace 'label' with the actual column name\n",
        "print(label_counts)"
      ],
      "metadata": {
        "id": "hQ1Ale0sEwt5"
      },
      "execution_count": null,
      "outputs": []
    },
    {
      "cell_type": "code",
      "source": [
        "split_dataset = new_dataset['train'].train_test_split(test_size=0.8)\n",
        "print(split_dataset)\n",
        "print(split_dataset['train'][0])"
      ],
      "metadata": {
        "id": "z-t9vSLVEyVz"
      },
      "execution_count": null,
      "outputs": []
    },
    {
      "cell_type": "code",
      "source": [
        "from collections import Counter\n",
        "\n",
        "label_counts = Counter(split_dataset['train'][\"labels\"])  # Replace 'label' with the actual column name\n",
        "print(label_counts)"
      ],
      "metadata": {
        "id": "mvMBoE2MEzzj"
      },
      "execution_count": null,
      "outputs": []
    },
    {
      "cell_type": "code",
      "source": [
        "import random\n",
        "from datasets.arrow_dataset import Dataset\n",
        "\n",
        "# under sample to class balance\n",
        "# Find minimum class size\n",
        "min_count = min(label_counts.values())\n",
        "\n",
        "# Group samples by label\n",
        "label_to_samples = {label: [] for label in label_counts}\n",
        "for example in split_dataset['train']:\n",
        "    label_to_samples[example[\"labels\"]].append(example)\n",
        "\n",
        "# Undersample each class to match the minority class size\n",
        "balanced_data = []\n",
        "for label, samples in label_to_samples.items():\n",
        "    balanced_data.extend(random.sample(samples, min_count))\n",
        "\n",
        "# Create a new dataset\n",
        "balanced_dataset = Dataset.from_list(balanced_data)\n",
        "print(balanced_dataset)\n",
        "\n",
        "label_counts = Counter(balanced_dataset[\"labels\"])  # Replace 'label' with the actual column name\n",
        "print(label_counts)"
      ],
      "metadata": {
        "id": "blvwo4ESE1ie"
      },
      "execution_count": null,
      "outputs": []
    },
    {
      "cell_type": "code",
      "source": [
        "print(split_dataset)\n",
        "split_dataset['train'] = balanced_dataset\n",
        "print(split_dataset)"
      ],
      "metadata": {
        "id": "wehG2DrKE3Gf"
      },
      "execution_count": null,
      "outputs": []
    },
    {
      "cell_type": "code",
      "source": [
        "# prompt: get the first 4000 elements in split_dataset['test']. use select\n",
        "print(split_dataset)\n",
        "split_dataset['test'] = split_dataset['test'].select(range(4000))\n",
        "print(split_dataset)"
      ],
      "metadata": {
        "id": "AaanFEfOE5H6"
      },
      "execution_count": null,
      "outputs": []
    },
    {
      "cell_type": "markdown",
      "source": [
        "We then need to tokenize our inputs. Tokenization is the process of converting the raw text into numbers (token IDs) that the underlying neural network can process.\n",
        "\n",
        "Most text based model's like BERT or LLMs have a seperate tokenizer that does this conversion, generally at the start when the text is being input, and then once again at the end to convert the numerical token output back to text.\n",
        "\n",
        "We will load and use ModernBERT-large's tokenizer, which can be found the in [hub's files](https://huggingface.co/answerdotai/ModernBERT-large/tree/main)."
      ],
      "metadata": {
        "id": "1sodvKFGLfgq"
      }
    },
    {
      "cell_type": "code",
      "source": [
        "from transformers import AutoTokenizer\n",
        "\n",
        "# Model ID\n",
        "model_id = \"answerdotai/ModernBERT-large\"\n",
        "\n",
        "# Load Tokenizer\n",
        "tokenizer = AutoTokenizer.from_pretrained(model_id)\n",
        "\n",
        "# Notes that all inputs should be at max 1024 tokens.\n",
        "# Text longer will be truncated, and text shorter will be padded with special tokens to maintain consistency.\n",
        "tokenizer.model_max_length = 1024\n",
        "\n",
        "# Tokenize helper function\n",
        "# Take in a batch of text to tokenize, return back the tokenized text.\n",
        "def tokenize(batch):\n",
        "    return tokenizer(batch['text'], padding='max_length', truncation=True, return_tensors=\"pt\")"
      ],
      "metadata": {
        "id": "jSCfl9vg8nIm"
      },
      "execution_count": null,
      "outputs": []
    },
    {
      "cell_type": "code",
      "source": [
        "# Tokenize train dataset\n",
        "tokenized_train_dataset = split_dataset['train'].map(tokenize, batched=True,remove_columns=[\"text\"])\n",
        "\n",
        "# Tokenize test dataset\n",
        "tokenized_test_dataset = split_dataset['test'].map(tokenize, batched=True,remove_columns=[\"text\"])\n",
        "\n",
        "print(tokenized_train_dataset.features.keys())\n",
        "print(tokenized_test_dataset.features.keys())"
      ],
      "metadata": {
        "colab": {
          "base_uri": "https://localhost:8080/",
          "height": 85,
          "referenced_widgets": [
            "4d25563287244dd2b47ebfdda2eaf9e1",
            "a828ed5763e842138c7211a3440b7b30",
            "46bb5652eacf4676917322e61c733d73",
            "1e1a2d998cc443728751af3d00f4a5cb",
            "a958067f79c64aebb3c82e4cda896599",
            "2ce8a9d1f4bd4c36beb14f3f757ea1b5",
            "01e881bab65b44c7a53cf8a79b7b3ef3",
            "9951eef722bc4a30bd1e810e39065900",
            "b6684a76cf5a4fe0ad507c5e56021a13",
            "bb36308370544c53bc3d07a94c5715ea",
            "336b5244750f42acaaf2b46df8a4bb9e"
          ]
        },
        "id": "m9X9rHvOPf6R",
        "outputId": "16c34f8f-b4ee-4f10-be3b-272080a02e27"
      },
      "execution_count": null,
      "outputs": [
        {
          "output_type": "display_data",
          "data": {
            "text/plain": [
              "Map:   0%|          | 0/4921 [00:00<?, ? examples/s]"
            ],
            "application/vnd.jupyter.widget-view+json": {
              "version_major": 2,
              "version_minor": 0,
              "model_id": "4d25563287244dd2b47ebfdda2eaf9e1"
            }
          },
          "metadata": {}
        },
        {
          "output_type": "stream",
          "name": "stdout",
          "text": [
            "dict_keys(['labels', 'input_ids', 'attention_mask'])\n",
            "dict_keys(['labels', 'input_ids', 'attention_mask'])\n"
          ]
        }
      ]
    },
    {
      "cell_type": "markdown",
      "source": [
        "We remove the original `text` columns as we no longer need the text anymore. We'll be working directly with the tokenized version.\n",
        "\n",
        "looking at our feature keys (structure of our dataset), we see now that we have labels, which in our case will be the numerical label for either a small or large LLM classification, input_ids which are our tokenized text, and attention_mask which will show the model what tokens are the content vs padding, if padding needed to be added.\n",
        "\n",
        "A pseudocode example of what this might look like:\n",
        "\n",
        "```python\n",
        "Text: \"hello world\"\n",
        "input_ids:      [101, 7592, 2087, 102, 0,   0,   0...]\n",
        "                [CLS, hello,world,SEP, PAD, PAD, PAD...]\n",
        "attention_mask: [1,   1,    1,    1,   0,   0,   0...]\n",
        "labels:         [1]  # Example for binary classification\n",
        "```"
      ],
      "metadata": {
        "id": "Maw-4OizNjSm"
      }
    },
    {
      "cell_type": "markdown",
      "source": [
        "---\n",
        "## Model Preparation\n",
        "\n",
        "Now that we have our dataset ready, we need to prep ModernBERT-large for classification training. Using the transformers library, we can load [the model](https://huggingface.co/answerdotai/ModernBERT-large) using `AutoModelForSequenceClassification`. This will configure our model with a new classification head, which we pass in our label identifiers of\n",
        "\n",
        "```python\n",
        "label2id = {\"small_llm\": \"0\", \"large_llm\": \"1\"}\n",
        "id2label = {\"0\": \"small_llm\", \"1\": \"large_llm\"}\n",
        "```\n",
        "\n",
        "This prepares the model to be trained for our specific classification task, with the right final layer attached to predict our new labels."
      ],
      "metadata": {
        "id": "8iWcHHP1O4SJ"
      }
    },
    {
      "cell_type": "code",
      "source": [
        "print(label2id)\n",
        "print(id2label)\n",
        "\n",
        "# num_labels = len(labels)\n",
        "num_labels = len(label2id)\n",
        "label2id1, id2label1 = dict(), dict()\n",
        "for k, v in label2id.items():\n",
        "    label2id1[k] = v\n",
        "    id2label1[v] = k\n",
        "\n",
        "print(label2id1)\n",
        "print(id2label1)\n",
        "label2id = label2id1\n",
        "id2label = id2label1"
      ],
      "metadata": {
        "id": "RjCEP2M7FDoE"
      },
      "execution_count": null,
      "outputs": []
    },
    {
      "cell_type": "code",
      "source": [
        "from transformers import AutoModelForSequenceClassification\n",
        "\n",
        "# Model id to load the tokenizer\n",
        "model_id = \"answerdotai/ModernBERT-large\"\n",
        "\n",
        "print(label2id)\n",
        "print(id2label)\n",
        "num_labels = (len(label2id))\n",
        "\n",
        "# # Prepare model labels - useful for inference\n",
        "# labels = tokenized_train_dataset.features[\"labels\"].names\n",
        "# num_labels = len(labels)\n",
        "# label2id1, id2label1 = dict(), dict()\n",
        "# for i, label in enumerate(labels):\n",
        "#     label2id1[label] = str(i)\n",
        "#     id2label1[str(i)] = label\n",
        "\n",
        "# print(label2id1)\n",
        "# print(id2label1)\n",
        "# Download the model from huggingface.co/models\n",
        "model = AutoModelForSequenceClassification.from_pretrained(\n",
        "    model_id, num_labels=num_labels, label2id=label2id, id2label=id2label,\n",
        ").to('cuda')"
      ],
      "metadata": {
        "colab": {
          "base_uri": "https://localhost:8080/",
          "height": 158,
          "referenced_widgets": [
            "b5a479fb7f9f4af588ad3dcb63a31c59",
            "3311e0a4a81049ed85cc5a9568cc2fd2",
            "3ca9642edaaa4b3c97b90aeeac7ce3ff",
            "6605501f6cd743068b2643ea7b904982",
            "1be3fe8a69fe492fb8285cd029f426ed",
            "9aa069d453604cbfbac8c12578d68f0c",
            "81d3effb2f984648bb0eb71085dea314",
            "df78515e1e84415b9be04ece34c1dfef",
            "c079d12646d34d7aa15a141ba41fe3bd",
            "57a49ac0ac714d82b730e7243d38b991",
            "734b5db902614f869c7f258e2d9932de"
          ]
        },
        "id": "f2iYX8Lo9ExU",
        "outputId": "c98459df-7642-4c62-968a-a90bc20e075d"
      },
      "execution_count": null,
      "outputs": [
        {
          "output_type": "display_data",
          "data": {
            "text/plain": [
              "model.safetensors:   0%|          | 0.00/1.58G [00:00<?, ?B/s]"
            ],
            "application/vnd.jupyter.widget-view+json": {
              "version_major": 2,
              "version_minor": 0,
              "model_id": "b5a479fb7f9f4af588ad3dcb63a31c59"
            }
          },
          "metadata": {}
        },
        {
          "output_type": "stream",
          "name": "stderr",
          "text": [
            "You are attempting to use Flash Attention 2.0 without specifying a torch dtype. This might lead to unexpected behaviour\n",
            "You are attempting to use Flash Attention 2.0 with a model not initialized on GPU. Make sure to move the model to GPU after initializing it on CPU with `model.to('cuda')`.\n",
            "Flash Attention 2.0 only supports torch.float16 and torch.bfloat16 dtypes, but the current dype in ModernBertForSequenceClassification is torch.float32. You should run training or inference using Automatic Mixed-Precision via the `with torch.autocast(device_type='torch_device'):` decorator, or load the model with the `torch_dtype` argument. Example: `model = AutoModel.from_pretrained(\"openai/whisper-tiny\", attn_implementation=\"flash_attention_2\", torch_dtype=torch.float16)`\n",
            "Some weights of ModernBertForSequenceClassification were not initialized from the model checkpoint at answerdotai/ModernBERT-large and are newly initialized: ['classifier.bias', 'classifier.weight']\n",
            "You should probably TRAIN this model on a down-stream task to be able to use it for predictions and inference.\n"
          ]
        }
      ]
    },
    {
      "cell_type": "markdown",
      "source": [
        "---\n",
        "## Training Evaluation Metric\n",
        "\n",
        "To evaluate our model's performance during training, we use the F1 score metric.\n",
        "\n",
        "The F1 score combines\n",
        "1. **Precision**: Out of all the times we predicted `large_llm`, how many were actually for a large LLMs?\n",
        "2. **Recall**: Out of all the actual `large_llm` labels, how many did we catch?\n",
        "\n",
        "Into `F1 = 2 * (precision * recall) / (precision + recall)`\n",
        "\n",
        "The `compute_metrics` function processes our model's predictions in two steps:\n",
        "1. Converts the model's raw output probabilities into actual predictions using `argmax` (selecting the class with highest probability)\n",
        "2. Calculates the weighted F1 score comparing these predictions against the true labels\n",
        "\n",
        "We use a weighted F1 score to account for both classes (`small_llm` and `large_llm`), with `pos_label=1` indicating that `large_llm` is our positive class. The weighting ensures that both classes are properly considered in our evaluation, even if our dataset isn't perfectly balanced between the two classes.\n",
        "\n",
        "This metric will be calculated during training to help us understand how well our model is learning."
      ],
      "metadata": {
        "id": "Tl9H6JU4RNDy"
      }
    },
    {
      "cell_type": "code",
      "source": [
        "import numpy as np\n",
        "from sklearn.metrics import f1_score\n",
        "\n",
        "# Metric helper method\n",
        "def compute_metrics(eval_pred):\n",
        "    predictions, labels = eval_pred\n",
        "    predictions = np.argmax(predictions, axis=1)\n",
        "    score = f1_score(\n",
        "            labels, predictions, labels=labels, pos_label=1, average=\"weighted\"\n",
        "        )\n",
        "    return {\"f1\": float(score) if score == 1 else score}"
      ],
      "metadata": {
        "id": "2s8S64_O-dFu"
      },
      "execution_count": null,
      "outputs": []
    },
    {
      "cell_type": "markdown",
      "source": [
        "---\n",
        "## Training the Model\n",
        "\n",
        "We then use transformers to initialize a trainer with the following hyperparameters:"
      ],
      "metadata": {
        "id": "YBseXUomSYtA"
      }
    },
    {
      "cell_type": "code",
      "source": [
        "from huggingface_hub import HfFolder\n",
        "from transformers import Trainer, TrainingArguments\n",
        "\n",
        "# Define our training configuration\n",
        "training_args = TrainingArguments(\n",
        "    output_dir= \"ModernBERT-large-llm-router\",  # Directory where model checkpoints will be saved\n",
        "    per_device_train_batch_size=32,         # Number of samples processed at once during training\n",
        "    per_device_eval_batch_size=16,          # Number of samples processed at once during evaluation\n",
        "    learning_rate=5e-5,                     # How quickly the model updates its weights\n",
        "    num_train_epochs=5,                     # Number of complete passes through the training data\n",
        "    bf16=True,                              # Use bfloat16 for faster, memory-efficient training\n",
        "    optim=\"adamw_torch_fused\",              # Optimized version of AdamW optimizer for better performance\n",
        "\n",
        "    # Configure how and when to log training progress\n",
        "    logging_strategy=\"steps\",\n",
        "    logging_steps=100,                      # Log metrics every 100 training steps\n",
        "    eval_strategy=\"epoch\",                  # Evaluate model after each epoch\n",
        "    save_strategy=\"epoch\",                  # Save model after each epoch\n",
        "    save_total_limit=2,                     # Only keep the 2 best model checkpoints\n",
        "    load_best_model_at_end=True,            # Load the best model when training finishes\n",
        "    metric_for_best_model=\"f1\",             # Use F1 score to determine which model is best\n",
        "\n",
        "    # HuggingFace Hub integration settings\n",
        "    report_to=\"tensorboard\",                # Log metrics to Tensorboard\n",
        "    push_to_hub=True,                       # Upload model to HuggingFace Hub\n",
        "    hub_strategy=\"every_save\",              # Push to Hub whenever we save a checkpoint\n",
        "    hub_token=HfFolder.get_token(),         # Authentication for HuggingFace Hub\n",
        ")\n",
        "\n",
        "# Create trainer with our model, data, and training configuration\n",
        "trainer = Trainer(\n",
        "    model=model,                            # Our BERT model with classification head\n",
        "    args=training_args,                     # Training configuration we defined above\n",
        "    train_dataset=tokenized_train_dataset,  # Our processed training data\n",
        "    eval_dataset=tokenized_test_dataset,    # Our processed test data\n",
        "    compute_metrics=compute_metrics,        # Our F1 score calculation function\n",
        ")"
      ],
      "metadata": {
        "id": "_NKoRIO5-ijn"
      },
      "execution_count": null,
      "outputs": []
    },
    {
      "cell_type": "markdown",
      "source": [
        "And then run our training!"
      ],
      "metadata": {
        "id": "ALS3gOEATNyn"
      }
    },
    {
      "cell_type": "code",
      "source": [
        "# Start training\n",
        "trainer.train()"
      ],
      "metadata": {
        "colab": {
          "base_uri": "https://localhost:8080/",
          "height": 268
        },
        "id": "Vy2w1mlD-9fc",
        "outputId": "070375f4-7158-4876-ced4-3bcdabc65c48"
      },
      "execution_count": null,
      "outputs": [
        {
          "output_type": "display_data",
          "data": {
            "text/plain": [
              "<IPython.core.display.HTML object>"
            ],
            "text/html": [
              "\n",
              "    <div>\n",
              "      \n",
              "      <progress value='2395' max='2395' style='width:300px; height:20px; vertical-align: middle;'></progress>\n",
              "      [2395/2395 11:28, Epoch 5/5]\n",
              "    </div>\n",
              "    <table border=\"1\" class=\"dataframe\">\n",
              "  <thead>\n",
              " <tr style=\"text-align: left;\">\n",
              "      <th>Epoch</th>\n",
              "      <th>Training Loss</th>\n",
              "      <th>Validation Loss</th>\n",
              "      <th>F1</th>\n",
              "    </tr>\n",
              "  </thead>\n",
              "  <tbody>\n",
              "    <tr>\n",
              "      <td>1</td>\n",
              "      <td>0.030300</td>\n",
              "      <td>0.031701</td>\n",
              "      <td>0.988087</td>\n",
              "    </tr>\n",
              "    <tr>\n",
              "      <td>2</td>\n",
              "      <td>0.014000</td>\n",
              "      <td>0.037432</td>\n",
              "      <td>0.992731</td>\n",
              "    </tr>\n",
              "    <tr>\n",
              "      <td>3</td>\n",
              "      <td>0.004400</td>\n",
              "      <td>0.050241</td>\n",
              "      <td>0.992126</td>\n",
              "    </tr>\n",
              "    <tr>\n",
              "      <td>4</td>\n",
              "      <td>0.000400</td>\n",
              "      <td>0.055424</td>\n",
              "      <td>0.992731</td>\n",
              "    </tr>\n",
              "    <tr>\n",
              "      <td>5</td>\n",
              "      <td>0.000300</td>\n",
              "      <td>0.053579</td>\n",
              "      <td>0.993337</td>\n",
              "    </tr>\n",
              "  </tbody>\n",
              "</table><p>"
            ]
          },
          "metadata": {}
        },
        {
          "output_type": "execute_result",
          "data": {
            "text/plain": [
              "TrainOutput(global_step=2395, training_loss=0.015399816034202287, metrics={'train_runtime': 698.514, 'train_samples_per_second': 109.561, 'train_steps_per_second': 3.429, 'total_flos': 1.6186952304488448e+17, 'train_loss': 0.015399816034202287, 'epoch': 5.0})"
            ]
          },
          "metadata": {},
          "execution_count": 11
        }
      ]
    },
    {
      "cell_type": "markdown",
      "source": [
        "Finally saving our trained model on HuggingFace\n",
        "\n",
        "This particular model is saved at [AdamLucek/ModernBERT-large-llm-router](https://huggingface.co/AdamLucek/ModernBERT-large-llm-router)"
      ],
      "metadata": {
        "id": "i4vdz5_ETRkx"
      }
    },
    {
      "cell_type": "code",
      "source": [
        "# Save processor and create model card\n",
        "tokenizer.save_pretrained(\"ModernBERT-large-llm-router\")\n",
        "trainer.create_model_card()\n",
        "trainer.push_to_hub()"
      ],
      "metadata": {
        "colab": {
          "base_uri": "https://localhost:8080/",
          "height": 103,
          "referenced_widgets": [
            "df98dd4b7f124ebd86cc62051fd1efed",
            "7198fc17bb224a4cbf21f512896b0cba",
            "1cea5e39935c4704a7dad803c24be817",
            "46e1c1131c93427b9d05e4ca39361744",
            "845beedfacb048c188b15c43a522dfc3",
            "e4b424df0aff48949317cac8736c2722",
            "5ddcd8da785d4b14a47985514872c924",
            "f828d2713da74d7b958978478601d9db",
            "b9f1cc3cd74a4abc95ede3f033f44b23",
            "57562087a10d442999f83bc852825ba7",
            "82cde3b14c19438d8c5e3b26b5450dfc"
          ]
        },
        "id": "k9khoYf8CK0h",
        "outputId": "13460005-26ef-4ffa-ef24-a3484ef216fc"
      },
      "execution_count": null,
      "outputs": [
        {
          "output_type": "display_data",
          "data": {
            "text/plain": [
              "events.out.tfevents.1736072493.b29abe2b1e5d.7227.0:   0%|          | 0.00/12.6k [00:00<?, ?B/s]"
            ],
            "application/vnd.jupyter.widget-view+json": {
              "version_major": 2,
              "version_minor": 0,
              "model_id": "df98dd4b7f124ebd86cc62051fd1efed"
            }
          },
          "metadata": {}
        },
        {
          "output_type": "execute_result",
          "data": {
            "text/plain": [
              "CommitInfo(commit_url='https://huggingface.co/AdamLucek/ModernBERT-large-llm-router/commit/58ac0e040fd3ddb11f344c8b8775b0d695c11a62', commit_message='End of training', commit_description='', oid='58ac0e040fd3ddb11f344c8b8775b0d695c11a62', pr_url=None, repo_url=RepoUrl('https://huggingface.co/AdamLucek/ModernBERT-large-llm-router', endpoint='https://huggingface.co', repo_type='model', repo_id='AdamLucek/ModernBERT-large-llm-router'), pr_revision=None, pr_num=None)"
            ],
            "application/vnd.google.colaboratory.intrinsic+json": {
              "type": "string"
            }
          },
          "metadata": {},
          "execution_count": 12
        }
      ]
    },
    {
      "cell_type": "markdown",
      "source": [
        "---\n",
        "## Using the Model\n",
        "\n",
        "Now that it's been successfully trained for our task, we can load and use our model for classification. We'll use transformer's pipeline helper with `text-classification` to easily load this."
      ],
      "metadata": {
        "id": "oxqmOy7MTeOH"
      }
    },
    {
      "cell_type": "code",
      "source": [
        "# Note - Run above dependencies cell to install necessary packages\n",
        "\n",
        "from transformers import pipeline\n",
        "\n",
        "# load model from huggingface.co/models using our repository id\n",
        "classifier = pipeline(\"text-classification\", model=\"AdamLucek/ModernBERT-large-llm-router\", device=0)"
      ],
      "metadata": {
        "colab": {
          "base_uri": "https://localhost:8080/",
          "height": 268,
          "referenced_widgets": [
            "77a9b4bcaf1a4542b01c29e36e598fae",
            "2e81d394d72343bb81918e85bd84fe93",
            "d4a5455de5774fb1aa12ae84efe11479",
            "e766bbd6236141c88887a86c3b843ef2",
            "11fcfaab677042ad8b7f2b45a309a9fe",
            "4bf9e5a783c8425793145dafbb090df5",
            "e4571c391222492caedd33c0ba1a5f38",
            "bc918260505748d9ae7b60acecd59436",
            "43fa6f1f4d36492f8d43760c17dc864a",
            "ef093555fa304556b40f3ebf6cd075f3",
            "0f9d715d6d4b41e198317c5b1e1ce2e9",
            "b92c22e9dbe14314bdde2f8b01bc4f66",
            "67eba38f4ed74027ae70a10cf9ea7423",
            "51437bdccf1f43dd9e55cde0f3cdebdf",
            "adc5961b1ce74cc9a262ded98c9b5754",
            "05fade29ec534e1dbcd9e44b732443c8",
            "8f2e44154cec47f581059761223ceb0c",
            "29cd23c564b84d79925ef4aef97c2249",
            "81adb000e2de422bb33a85ab3b4654bd",
            "143b57edab3044dea8463e73b759cb40",
            "194a8b9d90364a809d132b078892db3a",
            "8139276e3aa84466b9ae56cddaa8ebe2",
            "cad6e8c46a884435ad0016ddb124c3b0",
            "2b4b2aae73b448f3be5a572a0c7844a3",
            "6a2ddf189cd04d0ab4d1e9c28261c913",
            "c3bf919b72324f12893443f0cb6b76d0",
            "77c707756e9742f1a6521116809f54a7",
            "a924a31ee9d641c99d6d5645f79eda18",
            "5ce3b40319e94b469de622050e4c8c0b",
            "ffaeb3f8c978425aa9072375084a6675",
            "05500b12591a4770acd756793175a2bf",
            "ebf37d05c9c94b60ad66bb88d7949987",
            "a788bf4887814964bc4c4b69142bbe01",
            "edddab6e2dfd4ee2946b97bc186291ef",
            "0ce666ad17334e2d89d78f1eb4fad8dc",
            "95fc99a7af7e43f5898257432d4ba018",
            "2dc7efef892e43daa44a579961fd3ebc",
            "3a6350d47ae24ee5bad9345f503eafc2",
            "051c1b4396b54ba39e01db48bec311a0",
            "febea2fe17a84311b80154a597e3ed2d",
            "db231d37315e4dabb9ddb128b5d590a6",
            "37aa6dfe99084a26ac6642b95cbdb0d7",
            "9c87c52550de44338e2e555e790930a2",
            "98c2123f43704859944f43acd3347aa7",
            "371f9e7f45a849c8b1b04065d8cb13f3",
            "67aa08c38eea4ac88ce420e0ecd3d570",
            "73ba1bf30ddc480ab22cd0352f9ef8d0",
            "ca4c12f3de1c487cbd917e72b808ef9e",
            "8a5a7e7d69404e57b8a048993e5512ea",
            "346aaf44dd5c4623b92cc64fc6686666",
            "be70afa7bd8f4e45951c0650989be105",
            "843b48f830e8490ebfe5bdf364b35745",
            "4369929d987f4e24be8d8ab1c267458d",
            "8089f68a387d4dcfb83efb2e91c6842a",
            "fe6ba58fb3ae466d8d8f0ef271ff315f"
          ]
        },
        "id": "wvhiejdlCXF6",
        "outputId": "9291a839-589e-4202-d15e-57a4fa1c455b"
      },
      "execution_count": null,
      "outputs": [
        {
          "output_type": "display_data",
          "data": {
            "text/plain": [
              "config.json:   0%|          | 0.00/1.46k [00:00<?, ?B/s]"
            ],
            "application/vnd.jupyter.widget-view+json": {
              "version_major": 2,
              "version_minor": 0,
              "model_id": "77a9b4bcaf1a4542b01c29e36e598fae"
            }
          },
          "metadata": {}
        },
        {
          "output_type": "display_data",
          "data": {
            "text/plain": [
              "model.safetensors:   0%|          | 0.00/1.58G [00:00<?, ?B/s]"
            ],
            "application/vnd.jupyter.widget-view+json": {
              "version_major": 2,
              "version_minor": 0,
              "model_id": "b92c22e9dbe14314bdde2f8b01bc4f66"
            }
          },
          "metadata": {}
        },
        {
          "output_type": "stream",
          "name": "stderr",
          "text": [
            "You are attempting to use Flash Attention 2.0 without specifying a torch dtype. This might lead to unexpected behaviour\n",
            "You are attempting to use Flash Attention 2.0 with a model not initialized on GPU. Make sure to move the model to GPU after initializing it on CPU with `model.to('cuda')`.\n",
            "Flash Attention 2.0 only supports torch.float16 and torch.bfloat16 dtypes, but the current dype in ModernBertForSequenceClassification is torch.float32. You should run training or inference using Automatic Mixed-Precision via the `with torch.autocast(device_type='torch_device'):` decorator, or load the model with the `torch_dtype` argument. Example: `model = AutoModel.from_pretrained(\"openai/whisper-tiny\", attn_implementation=\"flash_attention_2\", torch_dtype=torch.float16)`\n"
          ]
        },
        {
          "output_type": "display_data",
          "data": {
            "text/plain": [
              "tokenizer_config.json:   0%|          | 0.00/20.8k [00:00<?, ?B/s]"
            ],
            "application/vnd.jupyter.widget-view+json": {
              "version_major": 2,
              "version_minor": 0,
              "model_id": "cad6e8c46a884435ad0016ddb124c3b0"
            }
          },
          "metadata": {}
        },
        {
          "output_type": "display_data",
          "data": {
            "text/plain": [
              "tokenizer.json:   0%|          | 0.00/3.58M [00:00<?, ?B/s]"
            ],
            "application/vnd.jupyter.widget-view+json": {
              "version_major": 2,
              "version_minor": 0,
              "model_id": "edddab6e2dfd4ee2946b97bc186291ef"
            }
          },
          "metadata": {}
        },
        {
          "output_type": "display_data",
          "data": {
            "text/plain": [
              "special_tokens_map.json:   0%|          | 0.00/694 [00:00<?, ?B/s]"
            ],
            "application/vnd.jupyter.widget-view+json": {
              "version_major": 2,
              "version_minor": 0,
              "model_id": "371f9e7f45a849c8b1b04065d8cb13f3"
            }
          },
          "metadata": {}
        },
        {
          "output_type": "stream",
          "name": "stderr",
          "text": [
            "Device set to use cuda:0\n"
          ]
        }
      ]
    },
    {
      "cell_type": "code",
      "source": [
        "sample_1 = \"What role does chromatin remodeling play in epigenetic regulation during embryonic development, particularly in cell fate determination and tissue specification?\"\n",
        "prediction_1 = classifier(sample_1)\n",
        "print(prediction_1)"
      ],
      "metadata": {
        "colab": {
          "base_uri": "https://localhost:8080/"
        },
        "id": "IgRFziahUclg",
        "outputId": "69a1d69a-4c72-4b7d-8863-08cc9ee2c023"
      },
      "execution_count": null,
      "outputs": [
        {
          "output_type": "stream",
          "name": "stderr",
          "text": [
            "/usr/local/lib/python3.10/dist-packages/torch/_inductor/compile_fx.py:167: UserWarning: TensorFloat32 tensor cores for float32 matrix multiplication available but not enabled. Consider setting `torch.set_float32_matmul_precision('high')` for better performance.\n",
            "  warnings.warn(\n"
          ]
        },
        {
          "output_type": "stream",
          "name": "stdout",
          "text": [
            "[{'label': 'large_llm', 'score': 1.0}]\n"
          ]
        }
      ]
    },
    {
      "cell_type": "code",
      "source": [
        "sample_2 = \"Why is the sky blue?\"\n",
        "prediction_2 = classifier(sample_2)\n",
        "print(prediction_2)"
      ],
      "metadata": {
        "colab": {
          "base_uri": "https://localhost:8080/"
        },
        "id": "tGTK-J-3UXXZ",
        "outputId": "66cf37e1-191b-4209-deac-743b9fd27d03"
      },
      "execution_count": null,
      "outputs": [
        {
          "output_type": "stream",
          "name": "stdout",
          "text": [
            "[{'label': 'small_llm', 'score': 1.0}]\n"
          ]
        }
      ]
    },
    {
      "cell_type": "code",
      "source": [],
      "metadata": {
        "id": "BKuPF7gBXsRV"
      },
      "execution_count": null,
      "outputs": []
    }
  ]
}